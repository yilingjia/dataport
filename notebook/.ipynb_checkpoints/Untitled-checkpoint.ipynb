{
 "cells": [
  {
   "cell_type": "code",
   "execution_count": 3,
   "metadata": {
    "collapsed": true
   },
   "outputs": [],
   "source": [
    "import numpy as np\n",
    "import pandas as pd\n",
    "import glob\n",
    "import os\n",
    "import sys\n",
    "import warnings\n",
    "warnings.filterwarnings(\"ignore\")"
   ]
  },
  {
   "cell_type": "code",
   "execution_count": 10,
   "metadata": {},
   "outputs": [],
   "source": [
    "FILE_PATH = os.path.expanduser(\"../metadata/electricity_egauge_15min/\")\n",
    "METADATA_PATH = os.path.expanduser(\"../metadata/metadata.csv\")\n",
    "HDF_PATH = os.path.expanduser(\"../15min.h5\")"
   ]
  },
  {
   "cell_type": "code",
   "execution_count": 11,
   "metadata": {
    "collapsed": true
   },
   "outputs": [],
   "source": [
    "files = os.listdir(FILE_PATH)\n",
    "file_size= {x:os.path.getsize(FILE_PATH+x) for x in  files if '.csv' in x}\n",
    "file_series = pd.Series(file_size)"
   ]
  },
  {
   "cell_type": "code",
   "execution_count": 13,
   "metadata": {},
   "outputs": [
    {
     "ename": "IndentationError",
     "evalue": "unexpected unindent (<ipython-input-13-e34babd6630c>, line 47)",
     "output_type": "error",
     "traceback": [
      "\u001b[0;36m  File \u001b[0;32m\"<ipython-input-13-e34babd6630c>\"\u001b[0;36m, line \u001b[0;32m47\u001b[0m\n\u001b[0;31m    # store.close()\u001b[0m\n\u001b[0m                   ^\u001b[0m\n\u001b[0;31mIndentationError\u001b[0m\u001b[0;31m:\u001b[0m unexpected unindent\n"
     ]
    }
   ],
   "source": [
    "count = 0\n",
    "for building_number_csv in fs.index:\n",
    "    print(\"Done %d of %d\" %(count, len(fs)))\n",
    "    try:\n",
    "        building_path = os.path.join(FILE_PATH, building_number_csv)\n",
    "        building_number = int(building_number_csv[:-4])\n",
    "        if building_number in store.keys():\n",
    "            continue\n",
    "        df = pd.read_csv(building_path)\n",
    "        df.index = pd.to_datetime(df[\"localhour\"])\n",
    "        df = df.drop(\"localhour\", 1)\n",
    "        \n",
    "#         # Dropping feeds\n",
    "#         for feed in feed_ignore:\n",
    "#             if feed in df.columns:\n",
    "#                 df = df.drop(feed, 1)\n",
    "\n",
    "#         df = df.mul(1000)\n",
    "\n",
    "#         # Dropping feeds with 0 sum\n",
    "#         cols_to_keep = df.sum()[df.sum()>0].index\n",
    "#         df = df[cols_to_keep]\n",
    "\n",
    "#         # Dropping dataid\n",
    "#         if \"dataid\" in df.columns:\n",
    "#             df = df.drop('dataid', 1)\n",
    "#         df = df.drop(['Unnamed: 0'], axis=1)\n",
    "\n",
    "\n",
    "#         # Fixing DST issues\n",
    "#         for start, end in dst_times:\n",
    "#             ix_drop = df[start:end].index\n",
    "#             df = df.drop(ix_drop)\n",
    "\n",
    "\n",
    "#         # Assigning local timezone\n",
    "#         df = df.tz_localize('US/Central')\n",
    "\n",
    "#         # Making data float32\n",
    "#         df = df.astype('float32')\n",
    "        \n",
    "#         # Write in temp HDF5 store\n",
    "# #         store.put(str(building_number), df, format='table')\n",
    "#         count = count + 1\n",
    "#     except Exception:\n",
    "#         print(building_number, \"Unexpected error:\", sys.exc_info()[0])\n",
    "# store.close()"
   ]
  }
 ],
 "metadata": {
  "kernelspec": {
   "display_name": "Python 2",
   "language": "python",
   "name": "python2"
  },
  "language_info": {
   "codemirror_mode": {
    "name": "ipython",
    "version": 2
   },
   "file_extension": ".py",
   "mimetype": "text/x-python",
   "name": "python",
   "nbconvert_exporter": "python",
   "pygments_lexer": "ipython2",
   "version": "2.7.10"
  }
 },
 "nbformat": 4,
 "nbformat_minor": 2
}
