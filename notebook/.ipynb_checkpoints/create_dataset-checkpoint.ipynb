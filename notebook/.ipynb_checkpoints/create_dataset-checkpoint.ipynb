{
 "cells": [
  {
   "cell_type": "code",
   "execution_count": 1,
   "metadata": {
    "collapsed": true
   },
   "outputs": [],
   "source": [
    "freq_dict = {'15-min':'15T',\n",
    "            '1-hour':'1H',\n",
    "            '2-hour':'2H',\n",
    "            '4-hour':'4H',\n",
    "            '6-hour':'6H',\n",
    "            '8-hour':'8H',\n",
    "            '12-hour':'12H',\n",
    "            '1-day':'1D',\n",
    "            '2-day':'2D',\n",
    "            '7-day':'7D',\n",
    "            '15-day':'15D',\n",
    "            '1-month':'1M'}"
   ]
  },
  {
   "cell_type": "code",
   "execution_count": 2,
   "metadata": {
    "collapsed": true
   },
   "outputs": [],
   "source": [
    "import pandas as pd\n",
    "import numpy as np\n",
    "import matplotlib.pyplot as plt\n",
    "import os\n",
    "from copy import deepcopy\n",
    "\n"
   ]
  },
  {
   "cell_type": "code",
   "execution_count": 4,
   "metadata": {},
   "outputs": [],
   "source": [
    "metadata_df = pd.read_csv(\"../metadata/metadata.csv\",index_col=0)"
   ]
  },
  {
   "cell_type": "code",
   "execution_count": 19,
   "metadata": {
    "collapsed": true
   },
   "outputs": [],
   "source": [
    "city = 'Austin'"
   ]
  },
  {
   "cell_type": "code",
   "execution_count": 20,
   "metadata": {
    "collapsed": true
   },
   "outputs": [],
   "source": [
    "st = pd.HDFStore(os.path.expanduser(\"/Users/xox/monthly-12-17.h5\"), mode='r')"
   ]
  },
  {
   "cell_type": "code",
   "execution_count": 21,
   "metadata": {
    "collapsed": true
   },
   "outputs": [],
   "source": [
    "freq='1M'"
   ]
  },
  {
   "cell_type": "code",
   "execution_count": 22,
   "metadata": {
    "collapsed": true
   },
   "outputs": [],
   "source": [
    "city_data = metadata_df[metadata_df['city'] == city]\n",
    "city_homes = city_data.index.values.astype('int')"
   ]
  },
  {
   "cell_type": "code",
   "execution_count": 23,
   "metadata": {},
   "outputs": [
    {
     "data": {
      "text/plain": [
       "902"
      ]
     },
     "execution_count": 23,
     "metadata": {},
     "output_type": "execute_result"
    }
   ],
   "source": [
    "len(city_homes)"
   ]
  },
  {
   "cell_type": "code",
   "execution_count": 51,
   "metadata": {},
   "outputs": [
    {
     "name": "stdout",
     "output_type": "stream",
     "text": [
      "1M\n"
     ]
    }
   ],
   "source": [
    "homes = {}\n",
    "count = 0\n",
    "for freq in ['1M']:\n",
    "    print(freq)\n",
    "    freq_num = int(freq[:-1])\n",
    "    out = []\n",
    "    homes[freq] = []\n",
    "    city_data = metadata_df[metadata_df['city'] == city]\n",
    "    city_homes = city_data.index.values.astype('int')\n",
    "    for home in city_homes:\n",
    "#         print(home)\n",
    "        try: \n",
    "            data_df = st['/%d' %home]\n",
    "            count += 1\n",
    "            homes[home] = data_df.resample(freq).mean()\n",
    "        except Exception as e:\n",
    "            continue\n"
   ]
  },
  {
   "cell_type": "code",
   "execution_count": 69,
   "metadata": {
    "collapsed": true
   },
   "outputs": [],
   "source": [
    "home_ids = homes.keys()"
   ]
  },
  {
   "cell_type": "code",
   "execution_count": 119,
   "metadata": {},
   "outputs": [],
   "source": [
    "home_readings = {}\n",
    "for year in range(2012, 2018):\n",
    "    home_readings[year] = {}\n",
    "for hid in home_ids:\n",
    "    for year in range(2012, 2018):\n",
    "        try:\n",
    "            year_readings = homes[hid][str(year)]\n",
    "            if len(year_readings) < 12:\n",
    "                continue\n",
    "            for m in range(12):\n",
    "                old_index = year_readings.index[m]\n",
    "                new_index = str(old_index)[:7]\n",
    "                year_readings = year_readings.rename(index={old_index:new_index})\n",
    "                home_readings[year][hid] = year_readings\n",
    "                \n",
    "        except:\n",
    "            continue"
   ]
  },
  {
   "cell_type": "code",
   "execution_count": 141,
   "metadata": {},
   "outputs": [
    {
     "name": "stdout",
     "output_type": "stream",
     "text": [
      "2013 160\n",
      "2014 322\n",
      "2015 307\n",
      "2016 260\n",
      "2017 197\n"
     ]
    }
   ],
   "source": [
    "# with all observed aggregate readings\n",
    "all_aggregate = {}\n",
    "for year in range(2013, 2018):\n",
    "    all_aggregate[year] = {}\n",
    "    for hid in home_readings[year].keys():\n",
    "        try:\n",
    "            if home_readings[year][hid]['use'].isnull().sum() == 0:\n",
    "                all_aggregate[year][hid] = home_readings[year][hid]\n",
    "        except Exception as e:\n",
    "            continue\n",
    "for year in range(2013, 2018):\n",
    "    print(year, len(all_aggregate[year].keys()))"
   ]
  },
  {
   "cell_type": "code",
   "execution_count": 142,
   "metadata": {},
   "outputs": [],
   "source": [
    "year = 2013"
   ]
  },
  {
   "cell_type": "code",
   "execution_count": 152,
   "metadata": {},
   "outputs": [
    {
     "name": "stdout",
     "output_type": "stream",
     "text": [
      "use        0\n",
      "air1       0\n",
      "drye1     12\n",
      "range1     0\n",
      "dtype: int64\n"
     ]
    }
   ],
   "source": [
    "app_nan = all_aggregate[year][9121].isnull().sum()\n",
    "print(app_nan)"
   ]
  },
  {
   "cell_type": "code",
   "execution_count": 159,
   "metadata": {},
   "outputs": [],
   "source": [
    "app_count = {}\n",
    "for year in range(2013, 2018):\n",
    "    app_count[year] = {}\n",
    "    for hid in all_aggregate[year].keys():\n",
    "        app_nan = all_aggregate[year][hid].isnull().sum()\n",
    "        for app in app_nan.keys():\n",
    "            if app_nan[app] == 0:\n",
    "                if app in app_count[year]:\n",
    "                    app_count[year][app] += 1\n",
    "                else:\n",
    "                    app_count[year][app] = 1"
   ]
  },
  {
   "cell_type": "code",
   "execution_count": 167,
   "metadata": {},
   "outputs": [],
   "source": [
    "df = pd.DataFrame(app_count)"
   ]
  },
  {
   "cell_type": "code",
   "execution_count": 220,
   "metadata": {},
   "outputs": [],
   "source": [
    "candidate_app = df[(df > 30).all(1)].index.tolist()"
   ]
  },
  {
   "cell_type": "code",
   "execution_count": 277,
   "metadata": {},
   "outputs": [],
   "source": [
    "candidate_app = ['air1', 'clotheswasher1', 'dishwasher1', 'microwave1', 'refrigerator1', 'use']"
   ]
  },
  {
   "cell_type": "code",
   "execution_count": 278,
   "metadata": {},
   "outputs": [
    {
     "name": "stderr",
     "output_type": "stream",
     "text": [
      "/Library/Frameworks/Python.framework/Versions/3.5/lib/python3.5/site-packages/pandas/core/series.py:705: FutureWarning: \n",
      "Passing list-likes to .loc or [] with any missing label will raise\n",
      "KeyError in the future, you can use .reindex() as an alternative.\n",
      "\n",
      "See the documentation here:\n",
      "http://pandas.pydata.org/pandas-docs/stable/indexing.html#deprecate-loc-reindex-listlike\n",
      "  return self.loc[key]\n"
     ]
    },
    {
     "name": "stdout",
     "output_type": "stream",
     "text": [
      "2013 24\n",
      "2014 61\n",
      "2015 104\n",
      "2016 86\n",
      "2017 53\n",
      "overall 328\n"
     ]
    }
   ],
   "source": [
    "c = 0\n",
    "overall = 0\n",
    "cand = {}\n",
    "for year in range(2013, 2018):\n",
    "    cand[year] = {}\n",
    "    for hid in all_aggregate[year].keys():\n",
    "        if all_aggregate[year][hid].isnull().sum()[candidate_app].sum() == 0:\n",
    "#             print(year, hid)\n",
    "            df = pd.DataFrame(all_aggregate[year][hid])\n",
    "            candidate = df.iloc[:, df.columns.isin(candidate_app)]\n",
    "            if len(candidate.columns) == len(candidate_app):\n",
    "                cand[year][hid] = candidate\n",
    "    print(year, len(cand[year].keys()))\n",
    "    overall += len(cand[year].keys())\n",
    "print('overall', overall)"
   ]
  },
  {
   "cell_type": "code",
   "execution_count": 282,
   "metadata": {
    "collapsed": true
   },
   "outputs": [],
   "source": [
    "selected_years = [2013, 2014]\n",
    "selected_appliance = ['air1', 'microwave1', 'oven1']\n",
    "all_observed = False"
   ]
  },
  {
   "cell_type": "code",
   "execution_count": 283,
   "metadata": {},
   "outputs": [],
   "source": [
    "data = {}\n",
    "for year in selected_years:\n",
    "    data[year] = {}\n",
    "    for hid in all_aggregate[year].keys():\n",
    "        df = pd.DataFrame(all_aggregate[year][hid])\n",
    "        if all_observed:\n",
    "            print(all_observed)\n",
    "        else:\n",
    "            candidate = df.iloc[:, df.columns.isin(selected_appliance)]\n",
    "            if len(candidate.columns) == len(candidate_app):\n",
    "                cand[year][hid] = candidate\n",
    "            \n",
    "            "
   ]
  },
  {
   "cell_type": "code",
   "execution_count": 287,
   "metadata": {},
   "outputs": [
    {
     "data": {
      "text/html": [
       "<div>\n",
       "<style scoped>\n",
       "    .dataframe tbody tr th:only-of-type {\n",
       "        vertical-align: middle;\n",
       "    }\n",
       "\n",
       "    .dataframe tbody tr th {\n",
       "        vertical-align: top;\n",
       "    }\n",
       "\n",
       "    .dataframe thead th {\n",
       "        text-align: right;\n",
       "    }\n",
       "</style>\n",
       "<table border=\"1\" class=\"dataframe\">\n",
       "  <thead>\n",
       "    <tr style=\"text-align: right;\">\n",
       "      <th></th>\n",
       "      <th>use</th>\n",
       "      <th>air1</th>\n",
       "      <th>bedroom1</th>\n",
       "      <th>clotheswasher1</th>\n",
       "      <th>dishwasher1</th>\n",
       "      <th>drye1</th>\n",
       "      <th>furnace1</th>\n",
       "      <th>microwave1</th>\n",
       "      <th>range1</th>\n",
       "      <th>refrigerator1</th>\n",
       "    </tr>\n",
       "    <tr>\n",
       "      <th>localhour</th>\n",
       "      <th></th>\n",
       "      <th></th>\n",
       "      <th></th>\n",
       "      <th></th>\n",
       "      <th></th>\n",
       "      <th></th>\n",
       "      <th></th>\n",
       "      <th></th>\n",
       "      <th></th>\n",
       "      <th></th>\n",
       "    </tr>\n",
       "  </thead>\n",
       "  <tbody>\n",
       "    <tr>\n",
       "      <th>2014-01</th>\n",
       "      <td>578.961792</td>\n",
       "      <td>0.727431</td>\n",
       "      <td>120.482986</td>\n",
       "      <td>332.501038</td>\n",
       "      <td>32.777431</td>\n",
       "      <td>45.172569</td>\n",
       "      <td>61.257984</td>\n",
       "      <td>8.586458</td>\n",
       "      <td>12.054861</td>\n",
       "      <td>58.231251</td>\n",
       "    </tr>\n",
       "    <tr>\n",
       "      <th>2014-02</th>\n",
       "      <td>624.258789</td>\n",
       "      <td>0.590055</td>\n",
       "      <td>116.672325</td>\n",
       "      <td>347.790161</td>\n",
       "      <td>45.616741</td>\n",
       "      <td>49.537525</td>\n",
       "      <td>47.663567</td>\n",
       "      <td>8.805456</td>\n",
       "      <td>14.095163</td>\n",
       "      <td>66.423164</td>\n",
       "    </tr>\n",
       "    <tr>\n",
       "      <th>2014-03</th>\n",
       "      <td>572.549561</td>\n",
       "      <td>5.454537</td>\n",
       "      <td>112.063683</td>\n",
       "      <td>326.954193</td>\n",
       "      <td>29.311478</td>\n",
       "      <td>66.477295</td>\n",
       "      <td>33.681065</td>\n",
       "      <td>7.288342</td>\n",
       "      <td>11.917745</td>\n",
       "      <td>67.771629</td>\n",
       "    </tr>\n",
       "    <tr>\n",
       "      <th>2014-04</th>\n",
       "      <td>657.682251</td>\n",
       "      <td>102.043266</td>\n",
       "      <td>104.243332</td>\n",
       "      <td>265.819611</td>\n",
       "      <td>32.133610</td>\n",
       "      <td>34.312916</td>\n",
       "      <td>32.158844</td>\n",
       "      <td>7.589398</td>\n",
       "      <td>14.141088</td>\n",
       "      <td>73.204933</td>\n",
       "    </tr>\n",
       "    <tr>\n",
       "      <th>2014-05</th>\n",
       "      <td>759.275696</td>\n",
       "      <td>190.377686</td>\n",
       "      <td>104.944649</td>\n",
       "      <td>2.668638</td>\n",
       "      <td>28.470833</td>\n",
       "      <td>27.504951</td>\n",
       "      <td>50.540524</td>\n",
       "      <td>6.912388</td>\n",
       "      <td>10.002934</td>\n",
       "      <td>74.273048</td>\n",
       "    </tr>\n",
       "    <tr>\n",
       "      <th>2014-06</th>\n",
       "      <td>867.798096</td>\n",
       "      <td>329.175079</td>\n",
       "      <td>119.049980</td>\n",
       "      <td>2.615856</td>\n",
       "      <td>28.047638</td>\n",
       "      <td>26.413889</td>\n",
       "      <td>76.012688</td>\n",
       "      <td>7.975741</td>\n",
       "      <td>2.089815</td>\n",
       "      <td>74.207016</td>\n",
       "    </tr>\n",
       "    <tr>\n",
       "      <th>2014-07</th>\n",
       "      <td>1048.852783</td>\n",
       "      <td>432.430786</td>\n",
       "      <td>134.182236</td>\n",
       "      <td>2.875695</td>\n",
       "      <td>31.691309</td>\n",
       "      <td>29.186380</td>\n",
       "      <td>96.422539</td>\n",
       "      <td>10.758803</td>\n",
       "      <td>4.172782</td>\n",
       "      <td>75.811806</td>\n",
       "    </tr>\n",
       "    <tr>\n",
       "      <th>2014-08</th>\n",
       "      <td>1326.088257</td>\n",
       "      <td>573.468018</td>\n",
       "      <td>162.521790</td>\n",
       "      <td>4.373768</td>\n",
       "      <td>35.925247</td>\n",
       "      <td>36.944466</td>\n",
       "      <td>128.270813</td>\n",
       "      <td>9.922916</td>\n",
       "      <td>6.547715</td>\n",
       "      <td>80.698990</td>\n",
       "    </tr>\n",
       "    <tr>\n",
       "      <th>2014-09</th>\n",
       "      <td>928.606567</td>\n",
       "      <td>310.252533</td>\n",
       "      <td>122.940926</td>\n",
       "      <td>3.134954</td>\n",
       "      <td>29.588449</td>\n",
       "      <td>22.052870</td>\n",
       "      <td>79.584793</td>\n",
       "      <td>8.925232</td>\n",
       "      <td>11.348958</td>\n",
       "      <td>80.494743</td>\n",
       "    </tr>\n",
       "    <tr>\n",
       "      <th>2014-10</th>\n",
       "      <td>699.310547</td>\n",
       "      <td>145.977493</td>\n",
       "      <td>164.671188</td>\n",
       "      <td>2.407437</td>\n",
       "      <td>23.758379</td>\n",
       "      <td>21.084251</td>\n",
       "      <td>40.405579</td>\n",
       "      <td>7.247245</td>\n",
       "      <td>1.499373</td>\n",
       "      <td>70.458199</td>\n",
       "    </tr>\n",
       "    <tr>\n",
       "      <th>2014-11</th>\n",
       "      <td>706.060425</td>\n",
       "      <td>6.893268</td>\n",
       "      <td>179.674164</td>\n",
       "      <td>3.008565</td>\n",
       "      <td>41.327553</td>\n",
       "      <td>26.196007</td>\n",
       "      <td>35.605152</td>\n",
       "      <td>8.620822</td>\n",
       "      <td>9.539415</td>\n",
       "      <td>73.480385</td>\n",
       "    </tr>\n",
       "    <tr>\n",
       "      <th>2014-12</th>\n",
       "      <td>740.359375</td>\n",
       "      <td>5.596617</td>\n",
       "      <td>157.072968</td>\n",
       "      <td>3.940883</td>\n",
       "      <td>42.638306</td>\n",
       "      <td>42.294289</td>\n",
       "      <td>38.413666</td>\n",
       "      <td>8.324418</td>\n",
       "      <td>22.528740</td>\n",
       "      <td>80.760750</td>\n",
       "    </tr>\n",
       "  </tbody>\n",
       "</table>\n",
       "</div>"
      ],
      "text/plain": [
       "                   use        air1    bedroom1  clotheswasher1  dishwasher1  \\\n",
       "localhour                                                                     \n",
       "2014-01     578.961792    0.727431  120.482986      332.501038    32.777431   \n",
       "2014-02     624.258789    0.590055  116.672325      347.790161    45.616741   \n",
       "2014-03     572.549561    5.454537  112.063683      326.954193    29.311478   \n",
       "2014-04     657.682251  102.043266  104.243332      265.819611    32.133610   \n",
       "2014-05     759.275696  190.377686  104.944649        2.668638    28.470833   \n",
       "2014-06     867.798096  329.175079  119.049980        2.615856    28.047638   \n",
       "2014-07    1048.852783  432.430786  134.182236        2.875695    31.691309   \n",
       "2014-08    1326.088257  573.468018  162.521790        4.373768    35.925247   \n",
       "2014-09     928.606567  310.252533  122.940926        3.134954    29.588449   \n",
       "2014-10     699.310547  145.977493  164.671188        2.407437    23.758379   \n",
       "2014-11     706.060425    6.893268  179.674164        3.008565    41.327553   \n",
       "2014-12     740.359375    5.596617  157.072968        3.940883    42.638306   \n",
       "\n",
       "               drye1    furnace1  microwave1     range1  refrigerator1  \n",
       "localhour                                                               \n",
       "2014-01    45.172569   61.257984    8.586458  12.054861      58.231251  \n",
       "2014-02    49.537525   47.663567    8.805456  14.095163      66.423164  \n",
       "2014-03    66.477295   33.681065    7.288342  11.917745      67.771629  \n",
       "2014-04    34.312916   32.158844    7.589398  14.141088      73.204933  \n",
       "2014-05    27.504951   50.540524    6.912388  10.002934      74.273048  \n",
       "2014-06    26.413889   76.012688    7.975741   2.089815      74.207016  \n",
       "2014-07    29.186380   96.422539   10.758803   4.172782      75.811806  \n",
       "2014-08    36.944466  128.270813    9.922916   6.547715      80.698990  \n",
       "2014-09    22.052870   79.584793    8.925232  11.348958      80.494743  \n",
       "2014-10    21.084251   40.405579    7.247245   1.499373      70.458199  \n",
       "2014-11    26.196007   35.605152    8.620822   9.539415      73.480385  \n",
       "2014-12    42.294289   38.413666    8.324418  22.528740      80.760750  "
      ]
     },
     "execution_count": 287,
     "metadata": {},
     "output_type": "execute_result"
    }
   ],
   "source": [
    "df"
   ]
  }
 ],
 "metadata": {
  "kernelspec": {
   "display_name": "Python 3",
   "language": "python",
   "name": "python3"
  },
  "language_info": {
   "codemirror_mode": {
    "name": "ipython",
    "version": 3
   },
   "file_extension": ".py",
   "mimetype": "text/x-python",
   "name": "python",
   "nbconvert_exporter": "python",
   "pygments_lexer": "ipython3",
   "version": "3.5.2"
  }
 },
 "nbformat": 4,
 "nbformat_minor": 2
}
