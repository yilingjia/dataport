{
 "cells": [
  {
   "cell_type": "code",
   "execution_count": 1,
   "metadata": {
    "collapsed": true
   },
   "outputs": [],
   "source": [
    "import numpy as np\n",
    "import pandas as pd\n",
    "import glob\n",
    "import os\n",
    "import sys\n",
    "import warnings\n",
    "warnings.filterwarnings(\"ignore\")"
   ]
  },
  {
   "cell_type": "code",
   "execution_count": 20,
   "metadata": {
    "collapsed": true
   },
   "outputs": [],
   "source": [
    "store = pd.HDFStore(os.path.expanduser(\"../2018_all.h5\"), 'r')"
   ]
  },
  {
   "cell_type": "code",
   "execution_count": 31,
   "metadata": {},
   "outputs": [
    {
     "name": "stdout",
     "output_type": "stream",
     "text": [
      "Austin\n",
      "Houston\n",
      "Boulder\n",
      "San Diego\n"
     ]
    }
   ],
   "source": [
    "metadata_df = pd.read_csv(os.path.expanduser(\"../metadata/metadata.csv\"),index_col=0)\n",
    "cities = ['Austin', 'Houston', 'Boulder', 'San Diego']\n",
    "city_home = {}\n",
    "for city in cities:\n",
    "    print(city)\n",
    "    city_home[city] = []\n",
    "    only_city_df = metadata_df[metadata_df['city'] == city]\n",
    "    for building in only_city_df.index:\n",
    "        try:\n",
    "            df = store.get(str(building))\n",
    "            city_home[city].append(building)\n",
    "        except:\n",
    "            continue"
   ]
  },
  {
   "cell_type": "code",
   "execution_count": 32,
   "metadata": {
    "collapsed": true
   },
   "outputs": [],
   "source": [
    "years = ['2012', '2013', '2014', '2015', '2016', '2017']"
   ]
  },
  {
   "cell_type": "code",
   "execution_count": 23,
   "metadata": {
    "scrolled": true
   },
   "outputs": [],
   "source": [
    "for city in cities:\n",
    "    only_city_df = metadata_df[metadata_df['city'] == city]\n",
    "    for year in years:\n",
    "        filename = \"../metadata/city_year/hourly/{}-{}.h5\".format(city, year)\n",
    "        \n",
    "        HDF_PATH = os.path.expanduser(filename)\n",
    "        hourly_store = pd.HDFStore(HDF_PATH, mode='a', complevel=9, complib='blosc')\n",
    "        \n",
    "        for building in only_city_df.index:\n",
    "            try:\n",
    "                df = store[str(building)][year]\n",
    "                hourly_store.put(str(building), df, format='table')\n",
    "            except:\n",
    "                continue\n",
    "        hourly_store.close()\n",
    "\n"
   ]
  },
  {
   "cell_type": "code",
   "execution_count": 2,
   "metadata": {},
   "outputs": [],
   "source": [
    "f_store = pd.HDFStore(\"../metadata/city_year/hourly/Austin-2017.h5\", 'r')"
   ]
  },
  {
   "cell_type": "code",
   "execution_count": 28,
   "metadata": {
    "collapsed": true
   },
   "outputs": [],
   "source": [
    "f_store.close()"
   ]
  },
  {
   "cell_type": "code",
   "execution_count": 24,
   "metadata": {
    "collapsed": true
   },
   "outputs": [],
   "source": [
    "f_store = pd.HDFStore(\"../metadata/city_year/hourly/Austin-2017.h5\", 'r')"
   ]
  },
  {
   "cell_type": "code",
   "execution_count": 33,
   "metadata": {},
   "outputs": [
    {
     "name": "stdout",
     "output_type": "stream",
     "text": [
      "Austin 2012\n",
      "Austin 2013\n",
      "Austin 2014\n",
      "Austin 2015\n",
      "Austin 2016\n",
      "Austin 2017\n",
      "Houston 2012\n",
      "Houston 2013\n",
      "Houston 2014\n",
      "Houston 2015\n",
      "Houston 2016\n",
      "Houston 2017\n",
      "Boulder 2012\n",
      "Boulder 2013\n",
      "Boulder 2014\n",
      "Boulder 2015\n",
      "Boulder 2016\n",
      "Boulder 2017\n",
      "San Diego 2012\n",
      "San Diego 2013\n",
      "San Diego 2014\n",
      "San Diego 2015\n",
      "San Diego 2016\n",
      "San Diego 2017\n"
     ]
    }
   ],
   "source": [
    "for city in cities:\n",
    "    for year in years:\n",
    "        print(city, year)\n",
    "        hourly_filename = \"../metadata/city_year/hourly/{}-{}.h5\".format(city, year)\n",
    "        monthly_filename = \"../metadata/city_year/monthly/{}-{}.h5\".format(city, year)\n",
    "        \n",
    "        HDF_PATH = os.path.expanduser(monthly_filename)\n",
    "        monthly_store = pd.HDFStore(HDF_PATH, mode='a', complevel=9, complib='blosc')\n",
    "        \n",
    "        hourly_store = pd.HDFStore(hourly_filename, 'r')\n",
    "        \n",
    "        for building in hourly_store.keys():\n",
    "            try:\n",
    "                df = hourly_store[building].resample('1M', how='mean')\n",
    "                monthly_store.put(building, df, format='table')\n",
    "            except:\n",
    "                continue\n",
    "        monthly_store.close()"
   ]
  }
 ],
 "metadata": {
  "kernelspec": {
   "display_name": "Python 3",
   "language": "python",
   "name": "python3"
  },
  "language_info": {
   "codemirror_mode": {
    "name": "ipython",
    "version": 3
   },
   "file_extension": ".py",
   "mimetype": "text/x-python",
   "name": "python",
   "nbconvert_exporter": "python",
   "pygments_lexer": "ipython3",
   "version": "3.6.3"
  }
 },
 "nbformat": 4,
 "nbformat_minor": 2
}
