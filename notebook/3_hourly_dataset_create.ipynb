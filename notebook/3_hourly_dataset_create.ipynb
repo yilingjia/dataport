{
 "cells": [
  {
   "cell_type": "code",
   "execution_count": 16,
   "metadata": {},
   "outputs": [
    {
     "ename": "ModuleNotFoundError",
     "evalue": "No module named 'sets'",
     "output_type": "error",
     "traceback": [
      "\u001b[0;31m---------------------------------------------------------------------------\u001b[0m",
      "\u001b[0;31mModuleNotFoundError\u001b[0m                       Traceback (most recent call last)",
      "\u001b[0;32m<ipython-input-16-daa0dfcb68d1>\u001b[0m in \u001b[0;36m<module>\u001b[0;34m()\u001b[0m\n\u001b[1;32m      5\u001b[0m \u001b[0;32mimport\u001b[0m \u001b[0msys\u001b[0m\u001b[0;34m\u001b[0m\u001b[0m\n\u001b[1;32m      6\u001b[0m \u001b[0;32mimport\u001b[0m \u001b[0mwarnings\u001b[0m\u001b[0;34m\u001b[0m\u001b[0m\n\u001b[0;32m----> 7\u001b[0;31m \u001b[0;32mfrom\u001b[0m \u001b[0msets\u001b[0m \u001b[0;32mimport\u001b[0m \u001b[0mSet\u001b[0m\u001b[0;34m\u001b[0m\u001b[0m\n\u001b[0m\u001b[1;32m      8\u001b[0m \u001b[0mwarnings\u001b[0m\u001b[0;34m.\u001b[0m\u001b[0mfilterwarnings\u001b[0m\u001b[0;34m(\u001b[0m\u001b[0;34m\"ignore\"\u001b[0m\u001b[0;34m)\u001b[0m\u001b[0;34m\u001b[0m\u001b[0m\n",
      "\u001b[0;31mModuleNotFoundError\u001b[0m: No module named 'sets'"
     ]
    }
   ],
   "source": [
    "import numpy as np\n",
    "import pandas as pd\n",
    "import glob\n",
    "import os\n",
    "import sys\n",
    "import warnings\n",
    "warnings.filterwarnings(\"ignore\")"
   ]
  },
  {
   "cell_type": "code",
   "execution_count": 5,
   "metadata": {},
   "outputs": [],
   "source": [
    "city = 'Austin'\n",
    "# year = 2012\n",
    "# store = pd.HDFStore(os.path.expanduser(\"../metadata/city_year/hourly/Austin-2012.h5\"), 'r')"
   ]
  },
  {
   "cell_type": "code",
   "execution_count": 12,
   "metadata": {},
   "outputs": [],
   "source": [
    "store = {}\n",
    "for i in [2012, 2013, 2014, 2015, 2016, 2017]:\n",
    "    store[i] = pd.HDFStore(os.path.expanduser(\"../metadata/city_year/hourly/Austin-{}.h5\").format(i), 'r')"
   ]
  },
  {
   "cell_type": "code",
   "execution_count": 40,
   "metadata": {
    "collapsed": true
   },
   "outputs": [],
   "source": [
    "metadata_df = pd.read_csv(\"../metadata/metadata.csv\",index_col=0)\n",
    "feeds = {'use':'aggregate',\n",
    "        'air1':'hvac',\n",
    "         'range1':'range',\n",
    "         'clotheswasher1':'wm',\n",
    "         'dishwasher1':'dw',\n",
    "         'microwave1':'mw',\n",
    "         'lights_plugs1':'light',\n",
    "         'refrigerator1':'fridge',\n",
    "         'oven1':'oven',\n",
    "        'car1':'ec',\n",
    "         'waterheater1':'wh',\n",
    "         'drye1':'dr'\n",
    "        }"
   ]
  },
  {
   "cell_type": "code",
   "execution_count": 15,
   "metadata": {},
   "outputs": [
    {
     "name": "stdout",
     "output_type": "stream",
     "text": [
      "2012 207\n",
      "2013 386\n",
      "2014 548\n",
      "2015 514\n",
      "2016 368\n",
      "2017 330\n"
     ]
    }
   ],
   "source": [
    "home_id = {}\n",
    "for i in [2012, 2013, 2014, 2015, 2016, 2017]:\n",
    "    print(i, len(store[i].keys()))\n",
    "    home_id[i] = store[i].keys()"
   ]
  },
  {
   "cell_type": "code",
   "execution_count": 31,
   "metadata": {},
   "outputs": [
    {
     "data": {
      "text/plain": [
       "'/2158'"
      ]
     },
     "execution_count": 31,
     "metadata": {},
     "output_type": "execute_result"
    }
   ],
   "source": [
    "common_home_id = set(home_id[2012])\n",
    "for i in [2012, 2013, 2014, 2015, 2016, 2017]:\n",
    "    common_home_id = common_home_id.intersection(set(home_id[i]))\n",
    "list(common_home_id)[0]"
   ]
  },
  {
   "cell_type": "code",
   "execution_count": 54,
   "metadata": {},
   "outputs": [
    {
     "data": {
      "text/plain": [
       "localhour\n",
       "2012-08-25 00:00:00-05:00    5473.649902\n",
       "2012-08-25 01:00:00-05:00    3320.366699\n",
       "2012-08-25 02:00:00-05:00    2551.583252\n",
       "2012-08-25 03:00:00-05:00    2195.383301\n",
       "2012-08-25 04:00:00-05:00     796.099976\n",
       "2012-08-25 05:00:00-05:00    1547.533325\n",
       "2012-08-25 06:00:00-05:00    1177.583374\n",
       "2012-08-25 07:00:00-05:00    1203.016724\n",
       "2012-08-25 08:00:00-05:00    1823.833374\n",
       "2012-08-25 09:00:00-05:00    1876.050049\n",
       "2012-08-25 10:00:00-05:00    2608.266602\n",
       "2012-08-25 11:00:00-05:00    1587.150024\n",
       "2012-08-25 12:00:00-05:00    1679.383301\n",
       "2012-08-25 13:00:00-05:00     729.483337\n",
       "2012-08-25 14:00:00-05:00    1573.816650\n",
       "2012-08-25 15:00:00-05:00    1418.816650\n",
       "2012-08-25 16:00:00-05:00    2512.983398\n",
       "2012-08-25 17:00:00-05:00    3260.966553\n",
       "2012-08-25 18:00:00-05:00    3260.483398\n",
       "2012-08-25 19:00:00-05:00    3419.616699\n",
       "2012-08-25 20:00:00-05:00    3339.949951\n",
       "2012-08-25 21:00:00-05:00    3327.766602\n",
       "2012-08-25 22:00:00-05:00    3770.433350\n",
       "2012-08-25 23:00:00-05:00    5613.600098\n",
       "2012-08-26 00:00:00-05:00    2728.033447\n",
       "2012-08-26 01:00:00-05:00    2646.149902\n",
       "2012-08-26 02:00:00-05:00    2530.333252\n",
       "2012-08-26 03:00:00-05:00    4786.933105\n",
       "2012-08-26 04:00:00-05:00    3584.633301\n",
       "2012-08-26 05:00:00-05:00    3205.100098\n",
       "                                ...     \n",
       "2012-12-30 18:00:00-06:00    1681.133301\n",
       "2012-12-30 19:00:00-06:00     835.983337\n",
       "2012-12-30 20:00:00-06:00     631.466675\n",
       "2012-12-30 21:00:00-06:00     934.866638\n",
       "2012-12-30 22:00:00-06:00    1216.099976\n",
       "2012-12-30 23:00:00-06:00     985.650024\n",
       "2012-12-31 00:00:00-06:00    3478.133301\n",
       "2012-12-31 01:00:00-06:00    3145.433350\n",
       "2012-12-31 02:00:00-06:00     669.783325\n",
       "2012-12-31 03:00:00-06:00    1074.683350\n",
       "2012-12-31 04:00:00-06:00     999.083313\n",
       "2012-12-31 05:00:00-06:00     983.716675\n",
       "2012-12-31 06:00:00-06:00     606.700012\n",
       "2012-12-31 07:00:00-06:00     580.266663\n",
       "2012-12-31 08:00:00-06:00     589.716675\n",
       "2012-12-31 09:00:00-06:00     561.900024\n",
       "2012-12-31 10:00:00-06:00     465.666656\n",
       "2012-12-31 11:00:00-06:00     521.083313\n",
       "2012-12-31 12:00:00-06:00     504.600006\n",
       "2012-12-31 13:00:00-06:00     526.866638\n",
       "2012-12-31 14:00:00-06:00    2516.866699\n",
       "2012-12-31 15:00:00-06:00    1757.616699\n",
       "2012-12-31 16:00:00-06:00     752.533325\n",
       "2012-12-31 17:00:00-06:00     651.616638\n",
       "2012-12-31 18:00:00-06:00     571.166687\n",
       "2012-12-31 19:00:00-06:00     802.366638\n",
       "2012-12-31 20:00:00-06:00     820.500000\n",
       "2012-12-31 21:00:00-06:00     787.950012\n",
       "2012-12-31 22:00:00-06:00     831.133362\n",
       "2012-12-31 23:00:00-06:00     778.516663\n",
       "Name: use, Length: 3094, dtype: float32"
      ]
     },
     "execution_count": 54,
     "metadata": {},
     "output_type": "execute_result"
    }
   ],
   "source": [
    "store[2012][list(common_home_id)[0]]['use']"
   ]
  },
  {
   "cell_type": "code",
   "execution_count": 46,
   "metadata": {
    "collapsed": true
   },
   "outputs": [],
   "source": [
    "APPLIANCES_ORDER = ['aggregate', 'hvac', 'fridge', 'mw', 'dw', 'wm', 'oven','wh','dr','range', 'light']"
   ]
  },
  {
   "cell_type": "code",
   "execution_count": 75,
   "metadata": {},
   "outputs": [
    {
     "data": {
      "text/plain": [
       "8760"
      ]
     },
     "execution_count": 75,
     "metadata": {},
     "output_type": "execute_result"
    }
   ],
   "source": [
    "len(store[2015]['5275'].resample('1H'))"
   ]
  },
  {
   "cell_type": "code",
   "execution_count": 92,
   "metadata": {},
   "outputs": [],
   "source": [
    "out = {}\n",
    "homes = {}\n",
    "for i in [2012, 2013, 2014, 2015, 2016, 2017]:\n",
    "    out[i] = []\n",
    "    homes[i] = []\n",
    "    for home in store[i].keys():\n",
    "        raw_data_df = store[i][home]\n",
    "        data_df = raw_data_df.rename(columns=feeds)\n",
    "        data_df = data_df.resample('1H')\n",
    "        o =  [None] * len(APPLIANCES_ORDER)\n",
    "        # Only consider homes that have data from Jan 1 to Dec 31\n",
    "        day_of_year = data_df.index.dayofyear\n",
    "        if day_of_year[0]==1 and day_of_year[-1]==365:\n",
    "            if len(data_df)<((365*24)):\n",
    "                continue\n",
    "            data_df = data_df.rename(columns=feeds)\n",
    "            o =  [None] * len(APPLIANCES_ORDER)\n",
    "            for a_num, appliance in enumerate(APPLIANCES_ORDER):\n",
    "                if appliance in data_df.columns:\n",
    "                    o[a_num] = data_df[appliance].values.reshape(365, 24)\n",
    "                else:\n",
    "                    o[a_num] = np.zeros((365, 24))\n",
    "                    o[a_num].fill(np.nan)\n",
    "            out[i].append(o)\n",
    "            homes[i].append(int(home[1:]))\n",
    "                "
   ]
  },
  {
   "cell_type": "code",
   "execution_count": 97,
   "metadata": {},
   "outputs": [
    {
     "name": "stdout",
     "output_type": "stream",
     "text": [
      "2012 0\n",
      "2013 189\n",
      "2014 329\n",
      "2015 318\n",
      "2016 0\n",
      "2017 210\n"
     ]
    }
   ],
   "source": [
    "for i in [2012, 2013, 2014, 2015, 2016, 2017]:\n",
    "    print(i, len(homes[i]))"
   ]
  },
  {
   "cell_type": "code",
   "execution_count": 33,
   "metadata": {},
   "outputs": [
    {
     "name": "stdout",
     "output_type": "stream",
     "text": [
      "1H\n",
      "1\n"
     ]
    }
   ],
   "source": [
    "homes = {}\n",
    "#for freq in ['2H','4H','12H','1H']:\n",
    "for freq in ['1H']:\n",
    "    print(freq)\n",
    "    freq_num = int(freq[:-1])\n",
    "    print(freq_num)\n",
    "#     out = []\n",
    "#     homes[freq] = []\n",
    "#     city_data = metadata_df[metadata_df['city'] == city]\n",
    "#     city_homes = city_data.index.values.astype('int')\n",
    "#     for home in city_homes[:]:\n",
    "\n",
    "#         try:\n",
    "#             data_df = st['/%d' %home]['%s' %year]\n",
    "\n",
    "#             # Only consider homes that have data from Jan 1 to Dec 31\n",
    "#             day_of_year = data_df.index.dayofyear\n",
    "#             if day_of_year[0]==1 and day_of_year[-1]==365:\n",
    "#                 downsampled_data = data_df.resample(freq).mean()\n",
    "#                 if len(downsampled_data)<((365*24)//freq_num):\n",
    "#                     continue\n",
    "#                 downsampled_data = downsampled_data.rename(columns=feeds)\n",
    "#                 o =  [None] * len(APPLIANCES_ORDER)\n",
    "#                 for a_num, appliance in enumerate(APPLIANCES_ORDER):\n",
    "#                     if appliance in downsampled_data.columns:\n",
    "#                         o[a_num] = downsampled_data[appliance].values.reshape(365, 24//freq_num)\n",
    "#                     else:\n",
    "#                         o[a_num] = np.zeros((365, 24//freq_num))\n",
    "#                         o[a_num].fill(np.nan)\n",
    "#                 out.append(o)\n",
    "#                 homes[freq].append(home)\n",
    "\n",
    "#             else:\n",
    "#                 continue\n",
    "#         except Exception as e:\n",
    "#             print(e)\n",
    "#     out = np.array(out)\n",
    "    \n",
    "\n",
    "   "
   ]
  }
 ],
 "metadata": {
  "kernelspec": {
   "display_name": "Python 3",
   "language": "python",
   "name": "python3"
  },
  "language_info": {
   "codemirror_mode": {
    "name": "ipython",
    "version": 3
   },
   "file_extension": ".py",
   "mimetype": "text/x-python",
   "name": "python",
   "nbconvert_exporter": "python",
   "pygments_lexer": "ipython3",
   "version": "3.6.3"
  }
 },
 "nbformat": 4,
 "nbformat_minor": 2
}
