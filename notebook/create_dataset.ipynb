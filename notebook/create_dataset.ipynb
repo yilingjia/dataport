{
 "cells": [
  {
   "cell_type": "code",
   "execution_count": 102,
   "metadata": {
    "collapsed": true
   },
   "outputs": [],
   "source": [
    "freq_dict = {'15-min':'15T',\n",
    "            '1-hour':'1H',\n",
    "            '2-hour':'2H',\n",
    "            '4-hour':'4H',\n",
    "            '6-hour':'6H',\n",
    "            '8-hour':'8H',\n",
    "            '12-hour':'12H',\n",
    "            '1-day':'1D',\n",
    "            '2-day':'2D',\n",
    "            '7-day':'7D',\n",
    "            '15-day':'15D',\n",
    "            '1-month':'1M'}"
   ]
  },
  {
   "cell_type": "code",
   "execution_count": 103,
   "metadata": {
    "collapsed": true
   },
   "outputs": [],
   "source": [
    "import pandas as pd\n",
    "import numpy as np\n",
    "import matplotlib.pyplot as plt\n",
    "import os\n",
    "from copy import deepcopy\n",
    "\n"
   ]
  },
  {
   "cell_type": "code",
   "execution_count": 104,
   "metadata": {
    "collapsed": true
   },
   "outputs": [],
   "source": [
    "metadata_df = pd.read_csv(\"../metadata/metadata.csv\",index_col=0)"
   ]
  },
  {
   "cell_type": "code",
   "execution_count": 136,
   "metadata": {},
   "outputs": [],
   "source": [
    "city_count = {}\n",
    "for i in metadata_df.index:\n",
    "    city = metadata_df.loc[i]['city']\n",
    "    if city in city_count.keys():\n",
    "        city_count[city] += 1\n",
    "    else:\n",
    "        city_count[city] = 1"
   ]
  },
  {
   "cell_type": "code",
   "execution_count": 137,
   "metadata": {
    "collapsed": true
   },
   "outputs": [],
   "source": [
    "city = 'Austin'"
   ]
  },
  {
   "cell_type": "code",
   "execution_count": 152,
   "metadata": {
    "collapsed": true
   },
   "outputs": [],
   "source": [
    "st = pd.HDFStore(os.path.expanduser(\"/Users/xox/monthly-12-17.h5\"), mode='r')"
   ]
  },
  {
   "cell_type": "code",
   "execution_count": 153,
   "metadata": {
    "collapsed": true
   },
   "outputs": [],
   "source": [
    "freq='1M'"
   ]
  },
  {
   "cell_type": "code",
   "execution_count": 154,
   "metadata": {
    "collapsed": true
   },
   "outputs": [],
   "source": [
    "city_data = metadata_df[metadata_df['city'] == city]\n",
    "city_homes = city_data.index.values.astype('int')"
   ]
  },
  {
   "cell_type": "code",
   "execution_count": 155,
   "metadata": {
    "scrolled": true
   },
   "outputs": [
    {
     "data": {
      "text/plain": [
       "82"
      ]
     },
     "execution_count": 155,
     "metadata": {},
     "output_type": "execute_result"
    }
   ],
   "source": [
    "count"
   ]
  },
  {
   "cell_type": "code",
   "execution_count": 156,
   "metadata": {
    "scrolled": false
   },
   "outputs": [
    {
     "name": "stdout",
     "output_type": "stream",
     "text": [
      "1M\n"
     ]
    }
   ],
   "source": [
    "homes = {}\n",
    "count = 0\n",
    "for freq in ['1M']:\n",
    "    print(freq)\n",
    "    freq_num = int(freq[:-1])\n",
    "    out = []\n",
    "    homes[freq] = []\n",
    "    city_data = metadata_df[metadata_df['city'] == city]\n",
    "    city_homes = city_data.index.values.astype('int')\n",
    "    for home in city_homes:\n",
    "#         print(home)\n",
    "        try: \n",
    "            \n",
    "            data_df = st['/%d' %home]\n",
    "            count += 1\n",
    "#             print(count)\n",
    "            homes[home] = data_df.resample(freq).mean()\n",
    "        except Exception as e:\n",
    "            continue\n"
   ]
  },
  {
   "cell_type": "code",
   "execution_count": 151,
   "metadata": {
    "scrolled": true
   },
   "outputs": [
    {
     "data": {
      "text/plain": [
       "82"
      ]
     },
     "execution_count": 151,
     "metadata": {},
     "output_type": "execute_result"
    }
   ],
   "source": [
    "count"
   ]
  },
  {
   "cell_type": "code",
   "execution_count": 112,
   "metadata": {
    "collapsed": true
   },
   "outputs": [],
   "source": [
    "home_ids = homes.keys()"
   ]
  },
  {
   "cell_type": "code",
   "execution_count": 113,
   "metadata": {},
   "outputs": [
    {
     "data": {
      "text/plain": [
       "dict_keys([9451, 645, 8198, 7693, 1854, 8597, 22, 6423, 5403, 5539, 4438, 5673, 6061, 6578, 9139, 575, 3126, 6072, 6460, 6078, 2751, 4800, 7491, 3143, 457, 7504, 6614, 6871, 4699, 8029, 222, 4575, 5456, 483, 3044, 5994, 491, 5356, 4590, 8829, 624, 6643, 3134, 4473, 5439, 6012, '1M'])"
      ]
     },
     "execution_count": 113,
     "metadata": {},
     "output_type": "execute_result"
    }
   ],
   "source": [
    "home_ids"
   ]
  },
  {
   "cell_type": "code",
   "execution_count": 121,
   "metadata": {
    "collapsed": true
   },
   "outputs": [],
   "source": [
    "home_readings = {}\n",
    "for year in range(2012, 2019):\n",
    "    home_readings[year] = {}\n",
    "for hid in home_ids:\n",
    "    for year in range(2012, 2019):\n",
    "        try:\n",
    "            year_readings = homes[hid][str(year)]\n",
    "            if len(year_readings) < 12:\n",
    "                continue\n",
    "            for m in range(12):\n",
    "                old_index = year_readings.index[m]\n",
    "                new_index = str(old_index)[:7]\n",
    "                year_readings = year_readings.rename(index={old_index:new_index})\n",
    "                home_readings[year][hid] = year_readings\n",
    "                \n",
    "        except:\n",
    "            continue"
   ]
  },
  {
   "cell_type": "code",
   "execution_count": 125,
   "metadata": {},
   "outputs": [
    {
     "data": {
      "text/plain": [
       "18"
      ]
     },
     "execution_count": 125,
     "metadata": {},
     "output_type": "execute_result"
    }
   ],
   "source": [
    "len(home_readings[2015].keys())"
   ]
  },
  {
   "cell_type": "code",
   "execution_count": 126,
   "metadata": {},
   "outputs": [
    {
     "name": "stdout",
     "output_type": "stream",
     "text": [
      "2013 9\n",
      "2014 25\n",
      "2015 17\n",
      "2016 15\n",
      "2017 9\n",
      "2018 7\n"
     ]
    }
   ],
   "source": [
    "# with all observed aggregate readings\n",
    "all_aggregate = {}\n",
    "for year in range(2013, 2019):\n",
    "    all_aggregate[year] = {}\n",
    "    for hid in home_readings[year].keys():\n",
    "        try:\n",
    "            if home_readings[year][hid]['use'].isnull().sum() == 0:\n",
    "                all_aggregate[year][hid] = home_readings[year][hid]\n",
    "        except Exception as e:\n",
    "            continue\n",
    "for year in range(2013, 2019):\n",
    "    print(year, len(all_aggregate[year].keys()))"
   ]
  },
  {
   "cell_type": "code",
   "execution_count": 127,
   "metadata": {
    "collapsed": true
   },
   "outputs": [],
   "source": [
    "year = 2015"
   ]
  },
  {
   "cell_type": "code",
   "execution_count": 128,
   "metadata": {
    "collapsed": true
   },
   "outputs": [],
   "source": [
    "app_count = {}\n",
    "for year in range(2013, 2019):\n",
    "    app_count[year] = {}\n",
    "    for hid in all_aggregate[year].keys():\n",
    "        app_nan = all_aggregate[year][hid].isnull().sum()\n",
    "        for app in app_nan.keys():\n",
    "            if app_nan[app] == 0:\n",
    "                if app in app_count[year]:\n",
    "                    app_count[year][app] += 1\n",
    "                else:\n",
    "                    app_count[year][app] = 1"
   ]
  },
  {
   "cell_type": "code",
   "execution_count": 129,
   "metadata": {
    "collapsed": true
   },
   "outputs": [],
   "source": [
    "df = pd.DataFrame(app_count)"
   ]
  },
  {
   "cell_type": "code",
   "execution_count": 130,
   "metadata": {
    "collapsed": true
   },
   "outputs": [
    {
     "data": {
      "text/plain": [
       "{2013: {'air1': 3,\n",
       "  'bedroom1': 3,\n",
       "  'clotheswasher1': 2,\n",
       "  'diningroom1': 1,\n",
       "  'dishwasher1': 3,\n",
       "  'disposal1': 1,\n",
       "  'drye1': 1,\n",
       "  'furnace1': 3,\n",
       "  'kitchenapp1': 1,\n",
       "  'kitchenapp2': 1,\n",
       "  'lights_plugs1': 3,\n",
       "  'lights_plugs2': 1,\n",
       "  'lights_plugs4': 1,\n",
       "  'lights_plugs5': 1,\n",
       "  'oven1': 1,\n",
       "  'range1': 2,\n",
       "  'refrigerator1': 3,\n",
       "  'use': 9},\n",
       " 2014: {'air1': 16,\n",
       "  'bedroom1': 4,\n",
       "  'bedroom2': 1,\n",
       "  'car1': 2,\n",
       "  'clotheswasher1': 4,\n",
       "  'dishwasher1': 17,\n",
       "  'disposal1': 9,\n",
       "  'drye1': 8,\n",
       "  'dryg1': 1,\n",
       "  'furnace1': 17,\n",
       "  'kitchen1': 6,\n",
       "  'kitchen2': 3,\n",
       "  'kitchenapp1': 7,\n",
       "  'kitchenapp2': 5,\n",
       "  'lights_plugs1': 3,\n",
       "  'lights_plugs2': 1,\n",
       "  'lights_plugs4': 1,\n",
       "  'lights_plugs5': 1,\n",
       "  'livingroom1': 8,\n",
       "  'microwave1': 7,\n",
       "  'oven1': 1,\n",
       "  'poolpump1': 1,\n",
       "  'range1': 11,\n",
       "  'refrigerator1': 16,\n",
       "  'use': 25,\n",
       "  'waterheater1': 8},\n",
       " 2015: {'air1': 14,\n",
       "  'air2': 1,\n",
       "  'bathroom1': 1,\n",
       "  'bedroom1': 4,\n",
       "  'bedroom2': 2,\n",
       "  'car1': 3,\n",
       "  'clotheswasher1': 5,\n",
       "  'clotheswasher_dryg1': 1,\n",
       "  'diningroom1': 1,\n",
       "  'dishwasher1': 8,\n",
       "  'disposal1': 5,\n",
       "  'drye1': 7,\n",
       "  'dryg1': 2,\n",
       "  'furnace1': 8,\n",
       "  'furnace2': 1,\n",
       "  'garage1': 3,\n",
       "  'garage2': 1,\n",
       "  'kitchen1': 2,\n",
       "  'kitchen2': 1,\n",
       "  'kitchenapp1': 4,\n",
       "  'kitchenapp2': 3,\n",
       "  'lights_plugs1': 1,\n",
       "  'lights_plugs2': 1,\n",
       "  'lights_plugs3': 1,\n",
       "  'lights_plugs4': 1,\n",
       "  'lights_plugs5': 1,\n",
       "  'livingroom1': 3,\n",
       "  'microwave1': 5,\n",
       "  'outsidelights_plugs1': 1,\n",
       "  'oven1': 6,\n",
       "  'poolpump1': 1,\n",
       "  'range1': 5,\n",
       "  'refrigerator1': 8,\n",
       "  'security1': 1,\n",
       "  'use': 17,\n",
       "  'utilityroom1': 1,\n",
       "  'venthood1': 2,\n",
       "  'waterheater1': 3},\n",
       " 2016: {'air1': 11,\n",
       "  'air2': 2,\n",
       "  'bathroom1': 1,\n",
       "  'bedroom1': 4,\n",
       "  'bedroom2': 2,\n",
       "  'car1': 4,\n",
       "  'clotheswasher1': 4,\n",
       "  'clotheswasher_dryg1': 1,\n",
       "  'dishwasher1': 6,\n",
       "  'disposal1': 2,\n",
       "  'drye1': 6,\n",
       "  'dryg1': 1,\n",
       "  'furnace1': 5,\n",
       "  'furnace2': 1,\n",
       "  'garage1': 2,\n",
       "  'garage2': 1,\n",
       "  'kitchen1': 1,\n",
       "  'kitchen2': 1,\n",
       "  'kitchenapp1': 2,\n",
       "  'kitchenapp2': 1,\n",
       "  'lights_plugs1': 1,\n",
       "  'lights_plugs2': 1,\n",
       "  'lights_plugs3': 1,\n",
       "  'lights_plugs4': 1,\n",
       "  'lights_plugs5': 1,\n",
       "  'livingroom1': 1,\n",
       "  'microwave1': 4,\n",
       "  'outsidelights_plugs1': 1,\n",
       "  'oven1': 5,\n",
       "  'oven2': 1,\n",
       "  'range1': 2,\n",
       "  'refrigerator1': 5,\n",
       "  'use': 15,\n",
       "  'venthood1': 2,\n",
       "  'waterheater1': 1},\n",
       " 2017: {'air1': 7,\n",
       "  'air2': 1,\n",
       "  'bedroom1': 1,\n",
       "  'bedroom2': 1,\n",
       "  'clotheswasher1': 2,\n",
       "  'dishwasher1': 2,\n",
       "  'disposal1': 1,\n",
       "  'drye1': 4,\n",
       "  'dryg1': 1,\n",
       "  'furnace1': 2,\n",
       "  'furnace2': 1,\n",
       "  'garage1': 1,\n",
       "  'kitchenapp1': 1,\n",
       "  'kitchenapp2': 1,\n",
       "  'microwave1': 1,\n",
       "  'outsidelights_plugs1': 1,\n",
       "  'oven1': 2,\n",
       "  'range1': 1,\n",
       "  'refrigerator1': 2,\n",
       "  'use': 9,\n",
       "  'venthood1': 1},\n",
       " 2018: {'air1': 5,\n",
       "  'clotheswasher1': 1,\n",
       "  'dishwasher1': 1,\n",
       "  'drye1': 4,\n",
       "  'furnace1': 1,\n",
       "  'oven1': 1,\n",
       "  'range1': 1,\n",
       "  'refrigerator1': 1,\n",
       "  'use': 7}}"
      ]
     },
     "execution_count": 130,
     "metadata": {},
     "output_type": "execute_result"
    }
   ],
   "source": [
    "app_count"
   ]
  },
  {
   "cell_type": "code",
   "execution_count": 131,
   "metadata": {},
   "outputs": [
    {
     "data": {
      "text/html": [
       "<div>\n",
       "<style scoped>\n",
       "    .dataframe tbody tr th:only-of-type {\n",
       "        vertical-align: middle;\n",
       "    }\n",
       "\n",
       "    .dataframe tbody tr th {\n",
       "        vertical-align: top;\n",
       "    }\n",
       "\n",
       "    .dataframe thead th {\n",
       "        text-align: right;\n",
       "    }\n",
       "</style>\n",
       "<table border=\"1\" class=\"dataframe\">\n",
       "  <thead>\n",
       "    <tr style=\"text-align: right;\">\n",
       "      <th></th>\n",
       "      <th>2013</th>\n",
       "      <th>2014</th>\n",
       "      <th>2015</th>\n",
       "      <th>2016</th>\n",
       "      <th>2017</th>\n",
       "      <th>2018</th>\n",
       "    </tr>\n",
       "  </thead>\n",
       "  <tbody>\n",
       "  </tbody>\n",
       "</table>\n",
       "</div>"
      ],
      "text/plain": [
       "Empty DataFrame\n",
       "Columns: [2013, 2014, 2015, 2016, 2017, 2018]\n",
       "Index: []"
      ]
     },
     "execution_count": 131,
     "metadata": {},
     "output_type": "execute_result"
    }
   ],
   "source": [
    "df[(df > 100).any(1)]"
   ]
  },
  {
   "cell_type": "code",
   "execution_count": 132,
   "metadata": {
    "collapsed": true
   },
   "outputs": [],
   "source": [
    "candidate_app = df[(df > 30).all(1)].index.tolist()"
   ]
  },
  {
   "cell_type": "code",
   "execution_count": 133,
   "metadata": {
    "collapsed": true
   },
   "outputs": [],
   "source": [
    "candidate_app = ['air1', 'clotheswasher1', 'dishwasher1', 'drye1', 'furnace1', 'kitchenapp1', 'microwave1', 'refrigerator1', 'use']"
   ]
  },
  {
   "cell_type": "code",
   "execution_count": 134,
   "metadata": {},
   "outputs": [
    {
     "name": "stdout",
     "output_type": "stream",
     "text": [
      "2013 0\n",
      "2014 1\n",
      "2015 0\n",
      "2016 0\n",
      "2017 0\n",
      "2018 0\n",
      "overall 1\n"
     ]
    },
    {
     "name": "stderr",
     "output_type": "stream",
     "text": [
      "/Library/Frameworks/Python.framework/Versions/3.5/lib/python3.5/site-packages/pandas/core/series.py:705: FutureWarning: \n",
      "Passing list-likes to .loc or [] with any missing label will raise\n",
      "KeyError in the future, you can use .reindex() as an alternative.\n",
      "\n",
      "See the documentation here:\n",
      "http://pandas.pydata.org/pandas-docs/stable/indexing.html#deprecate-loc-reindex-listlike\n",
      "  return self.loc[key]\n"
     ]
    }
   ],
   "source": [
    "c = 0\n",
    "overall = 0\n",
    "cand = {}\n",
    "for year in range(2013, 2019):\n",
    "    cand[year] = {}\n",
    "    for hid in all_aggregate[year].keys():\n",
    "        if all_aggregate[year][hid].isnull().sum()[candidate_app].sum() == 0:\n",
    "#             print(year, hid)\n",
    "            df = pd.DataFrame(all_aggregate[year][hid])\n",
    "            candidate = df.iloc[:, df.columns.isin(candidate_app)]\n",
    "            if len(candidate.columns) == len(candidate_app):\n",
    "                cand[year][hid] = candidate\n",
    "    print(year, len(cand[year].keys()))\n",
    "    overall += len(cand[year].keys())\n",
    "print('overall', overall)"
   ]
  },
  {
   "cell_type": "code",
   "execution_count": 82,
   "metadata": {
    "collapsed": true
   },
   "outputs": [],
   "source": [
    "def get_dataset(selected_years, selected_appliance, all_observed, num_columns=1):\n",
    "    data = {}\n",
    "    for year in selected_years:\n",
    "        data[year] = {}\n",
    "        for hid in all_aggregate[year].keys():\n",
    "            df = pd.DataFrame(all_aggregate[year][hid])\n",
    "            candidate = df.iloc[:, df.columns.isin(selected_appliance)]\n",
    "            if all_observed:\n",
    "                if len(candidate.columns) == len(selected_appliance) and candidate.isnull().sum().sum() == 0:\n",
    "                    data[year][hid] = candidate\n",
    "            else:\n",
    "                if len(candidate.columns) >= num_columns:\n",
    "                    data[year][hid] = candidate\n",
    "\n",
    "    return data\n",
    "            "
   ]
  },
  {
   "cell_type": "code",
   "execution_count": 83,
   "metadata": {
    "collapsed": true
   },
   "outputs": [],
   "source": [
    "def get_info(data):\n",
    "    overall = 0\n",
    "    for year in data.keys():\n",
    "        print(year, len(data[year].keys()))\n",
    "        overall += len(data[year].keys())\n",
    "    print(\"overall: \", overall)"
   ]
  },
  {
   "cell_type": "code",
   "execution_count": 84,
   "metadata": {
    "collapsed": true
   },
   "outputs": [],
   "source": [
    "selected_years = [2013, 2014, 2015, 2016, 2017, 2018]\n",
    "selected_appliance = ['air1', 'clotheswasher1', 'dishwasher1', 'furnace1',  'microwave1', 'refrigerator1', 'use']\n",
    "all_observed = True"
   ]
  },
  {
   "cell_type": "code",
   "execution_count": 85,
   "metadata": {},
   "outputs": [
    {
     "name": "stdout",
     "output_type": "stream",
     "text": [
      "2016 1\n",
      "2017 2\n",
      "2018 0\n",
      "2013 0\n",
      "2014 0\n",
      "2015 2\n",
      "overall:  5\n"
     ]
    }
   ],
   "source": [
    "data = get_dataset(selected_years, selected_appliance, all_observed, 2)\n",
    "get_info(data)"
   ]
  },
  {
   "cell_type": "code",
   "execution_count": 503,
   "metadata": {
    "collapsed": true
   },
   "outputs": [],
   "source": [
    "np.save(\"./data-2013-2017-observed.npy\", data)"
   ]
  }
 ],
 "metadata": {
  "kernelspec": {
   "display_name": "Python 3",
   "language": "python",
   "name": "python3"
  },
  "language_info": {
   "codemirror_mode": {
    "name": "ipython",
    "version": 3
   },
   "file_extension": ".py",
   "mimetype": "text/x-python",
   "name": "python",
   "nbconvert_exporter": "python",
   "pygments_lexer": "ipython3",
   "version": "3.5.2"
  }
 },
 "nbformat": 4,
 "nbformat_minor": 2
}
