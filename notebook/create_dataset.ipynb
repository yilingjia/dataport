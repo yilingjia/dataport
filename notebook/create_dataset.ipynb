{
 "cells": [
  {
   "cell_type": "code",
   "execution_count": 1,
   "metadata": {
    "collapsed": true
   },
   "outputs": [],
   "source": [
    "freq_dict = {'15-min':'15T',\n",
    "            '1-hour':'1H',\n",
    "            '2-hour':'2H',\n",
    "            '4-hour':'4H',\n",
    "            '6-hour':'6H',\n",
    "            '8-hour':'8H',\n",
    "            '12-hour':'12H',\n",
    "            '1-day':'1D',\n",
    "            '2-day':'2D',\n",
    "            '7-day':'7D',\n",
    "            '15-day':'15D',\n",
    "            '1-month':'1M'}"
   ]
  },
  {
   "cell_type": "code",
   "execution_count": 2,
   "metadata": {
    "collapsed": true
   },
   "outputs": [],
   "source": [
    "import pandas as pd\n",
    "import numpy as np\n",
    "import matplotlib.pyplot as plt\n",
    "import os\n",
    "from copy import deepcopy\n",
    "\n"
   ]
  },
  {
   "cell_type": "code",
   "execution_count": 4,
   "metadata": {
    "collapsed": true
   },
   "outputs": [],
   "source": [
    "metadata_df = pd.read_csv(\"../metadata/metadata.csv\",index_col=0)"
   ]
  },
  {
   "cell_type": "code",
   "execution_count": 19,
   "metadata": {
    "collapsed": true
   },
   "outputs": [],
   "source": [
    "city = 'Austin'"
   ]
  },
  {
   "cell_type": "code",
   "execution_count": 20,
   "metadata": {
    "collapsed": true
   },
   "outputs": [],
   "source": [
    "st = pd.HDFStore(os.path.expanduser(\"/Users/xox/monthly-12-17.h5\"), mode='r')"
   ]
  },
  {
   "cell_type": "code",
   "execution_count": 21,
   "metadata": {
    "collapsed": true
   },
   "outputs": [],
   "source": [
    "freq='1M'"
   ]
  },
  {
   "cell_type": "code",
   "execution_count": 22,
   "metadata": {
    "collapsed": true
   },
   "outputs": [],
   "source": [
    "city_data = metadata_df[metadata_df['city'] == city]\n",
    "city_homes = city_data.index.values.astype('int')"
   ]
  },
  {
   "cell_type": "code",
   "execution_count": 23,
   "metadata": {},
   "outputs": [
    {
     "data": {
      "text/plain": [
       "902"
      ]
     },
     "execution_count": 23,
     "metadata": {},
     "output_type": "execute_result"
    }
   ],
   "source": [
    "len(city_homes)"
   ]
  },
  {
   "cell_type": "code",
   "execution_count": 51,
   "metadata": {},
   "outputs": [
    {
     "name": "stdout",
     "output_type": "stream",
     "text": [
      "1M\n"
     ]
    }
   ],
   "source": [
    "homes = {}\n",
    "count = 0\n",
    "for freq in ['1M']:\n",
    "    print(freq)\n",
    "    freq_num = int(freq[:-1])\n",
    "    out = []\n",
    "    homes[freq] = []\n",
    "    city_data = metadata_df[metadata_df['city'] == city]\n",
    "    city_homes = city_data.index.values.astype('int')\n",
    "    for home in city_homes:\n",
    "#         print(home)\n",
    "        try: \n",
    "            data_df = st['/%d' %home]\n",
    "            count += 1\n",
    "            homes[home] = data_df.resample(freq).mean()\n",
    "        except Exception as e:\n",
    "            continue\n"
   ]
  },
  {
   "cell_type": "code",
   "execution_count": 69,
   "metadata": {
    "collapsed": true
   },
   "outputs": [],
   "source": [
    "home_ids = homes.keys()"
   ]
  },
  {
   "cell_type": "code",
   "execution_count": 119,
   "metadata": {
    "collapsed": true
   },
   "outputs": [],
   "source": [
    "home_readings = {}\n",
    "for year in range(2012, 2018):\n",
    "    home_readings[year] = {}\n",
    "for hid in home_ids:\n",
    "    for year in range(2012, 2018):\n",
    "        try:\n",
    "            year_readings = homes[hid][str(year)]\n",
    "            if len(year_readings) < 12:\n",
    "                continue\n",
    "            for m in range(12):\n",
    "                old_index = year_readings.index[m]\n",
    "                new_index = str(old_index)[:7]\n",
    "                year_readings = year_readings.rename(index={old_index:new_index})\n",
    "                home_readings[year][hid] = year_readings\n",
    "                \n",
    "        except:\n",
    "            continue"
   ]
  },
  {
   "cell_type": "code",
   "execution_count": 141,
   "metadata": {},
   "outputs": [
    {
     "name": "stdout",
     "output_type": "stream",
     "text": [
      "2013 160\n",
      "2014 322\n",
      "2015 307\n",
      "2016 260\n",
      "2017 197\n"
     ]
    }
   ],
   "source": [
    "# with all observed aggregate readings\n",
    "all_aggregate = {}\n",
    "for year in range(2013, 2018):\n",
    "    all_aggregate[year] = {}\n",
    "    for hid in home_readings[year].keys():\n",
    "        try:\n",
    "            if home_readings[year][hid]['use'].isnull().sum() == 0:\n",
    "                all_aggregate[year][hid] = home_readings[year][hid]\n",
    "        except Exception as e:\n",
    "            continue\n",
    "for year in range(2013, 2018):\n",
    "    print(year, len(all_aggregate[year].keys()))"
   ]
  },
  {
   "cell_type": "code",
   "execution_count": 142,
   "metadata": {
    "collapsed": true
   },
   "outputs": [],
   "source": [
    "year = 2013"
   ]
  },
  {
   "cell_type": "code",
   "execution_count": 152,
   "metadata": {},
   "outputs": [
    {
     "name": "stdout",
     "output_type": "stream",
     "text": [
      "use        0\n",
      "air1       0\n",
      "drye1     12\n",
      "range1     0\n",
      "dtype: int64\n"
     ]
    }
   ],
   "source": [
    "app_nan = all_aggregate[year][9121].isnull().sum()\n",
    "print(app_nan)"
   ]
  },
  {
   "cell_type": "code",
   "execution_count": 159,
   "metadata": {
    "collapsed": true
   },
   "outputs": [],
   "source": [
    "app_count = {}\n",
    "for year in range(2013, 2018):\n",
    "    app_count[year] = {}\n",
    "    for hid in all_aggregate[year].keys():\n",
    "        app_nan = all_aggregate[year][hid].isnull().sum()\n",
    "        for app in app_nan.keys():\n",
    "            if app_nan[app] == 0:\n",
    "                if app in app_count[year]:\n",
    "                    app_count[year][app] += 1\n",
    "                else:\n",
    "                    app_count[year][app] = 1"
   ]
  },
  {
   "cell_type": "code",
   "execution_count": 487,
   "metadata": {
    "collapsed": true
   },
   "outputs": [],
   "source": [
    "df = pd.DataFrame(app_count)"
   ]
  },
  {
   "cell_type": "code",
   "execution_count": 489,
   "metadata": {},
   "outputs": [
    {
     "data": {
      "text/html": [
       "<div>\n",
       "<style scoped>\n",
       "    .dataframe tbody tr th:only-of-type {\n",
       "        vertical-align: middle;\n",
       "    }\n",
       "\n",
       "    .dataframe tbody tr th {\n",
       "        vertical-align: top;\n",
       "    }\n",
       "\n",
       "    .dataframe thead th {\n",
       "        text-align: right;\n",
       "    }\n",
       "</style>\n",
       "<table border=\"1\" class=\"dataframe\">\n",
       "  <thead>\n",
       "    <tr style=\"text-align: right;\">\n",
       "      <th></th>\n",
       "      <th>2013</th>\n",
       "      <th>2014</th>\n",
       "      <th>2015</th>\n",
       "      <th>2016</th>\n",
       "      <th>2017</th>\n",
       "    </tr>\n",
       "  </thead>\n",
       "  <tbody>\n",
       "    <tr>\n",
       "      <th>air1</th>\n",
       "      <td>91.0</td>\n",
       "      <td>239.0</td>\n",
       "      <td>274.0</td>\n",
       "      <td>235.0</td>\n",
       "      <td>175.0</td>\n",
       "    </tr>\n",
       "    <tr>\n",
       "      <th>clotheswasher1</th>\n",
       "      <td>44.0</td>\n",
       "      <td>118.0</td>\n",
       "      <td>156.0</td>\n",
       "      <td>131.0</td>\n",
       "      <td>85.0</td>\n",
       "    </tr>\n",
       "    <tr>\n",
       "      <th>dishwasher1</th>\n",
       "      <td>48.0</td>\n",
       "      <td>181.0</td>\n",
       "      <td>171.0</td>\n",
       "      <td>143.0</td>\n",
       "      <td>93.0</td>\n",
       "    </tr>\n",
       "    <tr>\n",
       "      <th>drye1</th>\n",
       "      <td>46.0</td>\n",
       "      <td>113.0</td>\n",
       "      <td>158.0</td>\n",
       "      <td>135.0</td>\n",
       "      <td>103.0</td>\n",
       "    </tr>\n",
       "    <tr>\n",
       "      <th>furnace1</th>\n",
       "      <td>64.0</td>\n",
       "      <td>215.0</td>\n",
       "      <td>210.0</td>\n",
       "      <td>179.0</td>\n",
       "      <td>119.0</td>\n",
       "    </tr>\n",
       "    <tr>\n",
       "      <th>kitchenapp1</th>\n",
       "      <td>28.0</td>\n",
       "      <td>140.0</td>\n",
       "      <td>135.0</td>\n",
       "      <td>110.0</td>\n",
       "      <td>73.0</td>\n",
       "    </tr>\n",
       "    <tr>\n",
       "      <th>microwave1</th>\n",
       "      <td>35.0</td>\n",
       "      <td>116.0</td>\n",
       "      <td>148.0</td>\n",
       "      <td>125.0</td>\n",
       "      <td>77.0</td>\n",
       "    </tr>\n",
       "    <tr>\n",
       "      <th>refrigerator1</th>\n",
       "      <td>57.0</td>\n",
       "      <td>195.0</td>\n",
       "      <td>196.0</td>\n",
       "      <td>159.0</td>\n",
       "      <td>104.0</td>\n",
       "    </tr>\n",
       "    <tr>\n",
       "      <th>use</th>\n",
       "      <td>160.0</td>\n",
       "      <td>322.0</td>\n",
       "      <td>307.0</td>\n",
       "      <td>260.0</td>\n",
       "      <td>197.0</td>\n",
       "    </tr>\n",
       "  </tbody>\n",
       "</table>\n",
       "</div>"
      ],
      "text/plain": [
       "                 2013   2014   2015   2016   2017\n",
       "air1             91.0  239.0  274.0  235.0  175.0\n",
       "clotheswasher1   44.0  118.0  156.0  131.0   85.0\n",
       "dishwasher1      48.0  181.0  171.0  143.0   93.0\n",
       "drye1            46.0  113.0  158.0  135.0  103.0\n",
       "furnace1         64.0  215.0  210.0  179.0  119.0\n",
       "kitchenapp1      28.0  140.0  135.0  110.0   73.0\n",
       "microwave1       35.0  116.0  148.0  125.0   77.0\n",
       "refrigerator1    57.0  195.0  196.0  159.0  104.0\n",
       "use             160.0  322.0  307.0  260.0  197.0"
      ]
     },
     "execution_count": 489,
     "metadata": {},
     "output_type": "execute_result"
    }
   ],
   "source": [
    "df[(df > 100).any(1)]"
   ]
  },
  {
   "cell_type": "code",
   "execution_count": 488,
   "metadata": {
    "collapsed": true
   },
   "outputs": [],
   "source": [
    "candidate_app = df[(df > 30).all(1)].index.tolist()"
   ]
  },
  {
   "cell_type": "code",
   "execution_count": 490,
   "metadata": {
    "collapsed": true
   },
   "outputs": [],
   "source": [
    "candidate_app = ['air1', 'clotheswasher1', 'dishwasher1', 'drye1', 'furnace1', 'kitchenapp1', 'microwave1', 'refrigerator1', 'use']"
   ]
  },
  {
   "cell_type": "code",
   "execution_count": 491,
   "metadata": {},
   "outputs": [
    {
     "name": "stderr",
     "output_type": "stream",
     "text": [
      "/Library/Frameworks/Python.framework/Versions/3.5/lib/python3.5/site-packages/pandas/core/series.py:705: FutureWarning: \n",
      "Passing list-likes to .loc or [] with any missing label will raise\n",
      "KeyError in the future, you can use .reindex() as an alternative.\n",
      "\n",
      "See the documentation here:\n",
      "http://pandas.pydata.org/pandas-docs/stable/indexing.html#deprecate-loc-reindex-listlike\n",
      "  return self.loc[key]\n"
     ]
    },
    {
     "name": "stdout",
     "output_type": "stream",
     "text": [
      "2013 10\n",
      "2014 34\n",
      "2015 54\n",
      "2016 41\n",
      "2017 31\n",
      "overall 170\n"
     ]
    }
   ],
   "source": [
    "c = 0\n",
    "overall = 0\n",
    "cand = {}\n",
    "for year in range(2013, 2018):\n",
    "    cand[year] = {}\n",
    "    for hid in all_aggregate[year].keys():\n",
    "        if all_aggregate[year][hid].isnull().sum()[candidate_app].sum() == 0:\n",
    "#             print(year, hid)\n",
    "            df = pd.DataFrame(all_aggregate[year][hid])\n",
    "            candidate = df.iloc[:, df.columns.isin(candidate_app)]\n",
    "            if len(candidate.columns) == len(candidate_app):\n",
    "                cand[year][hid] = candidate\n",
    "    print(year, len(cand[year].keys()))\n",
    "    overall += len(cand[year].keys())\n",
    "print('overall', overall)"
   ]
  },
  {
   "cell_type": "code",
   "execution_count": 492,
   "metadata": {
    "collapsed": true
   },
   "outputs": [],
   "source": [
    "def get_dataset(selected_years, selected_appliance, all_observed, num_columns=1):\n",
    "    data = {}\n",
    "    for year in selected_years:\n",
    "        data[year] = {}\n",
    "        for hid in all_aggregate[year].keys():\n",
    "            df = pd.DataFrame(all_aggregate[year][hid])\n",
    "            candidate = df.iloc[:, df.columns.isin(selected_appliance)]\n",
    "            if all_observed:\n",
    "                if len(candidate.columns) == len(selected_appliance) and candidate.isnull().sum().sum() == 0:\n",
    "                    data[year][hid] = candidate\n",
    "            else:\n",
    "                if len(candidate.columns) >= num_columns:\n",
    "                    data[year][hid] = candidate\n",
    "\n",
    "    return data\n",
    "            "
   ]
  },
  {
   "cell_type": "code",
   "execution_count": 493,
   "metadata": {
    "collapsed": true
   },
   "outputs": [],
   "source": [
    "def get_info(data):\n",
    "    overall = 0\n",
    "    for year in data.keys():\n",
    "        print(year, len(data[year].keys()))\n",
    "        overall += len(data[year].keys())\n",
    "    print(\"overall: \", overall)"
   ]
  },
  {
   "cell_type": "code",
   "execution_count": 504,
   "metadata": {
    "collapsed": true
   },
   "outputs": [],
   "source": [
    "selected_years = [2013, 2014, 2015, 2016, 2017]\n",
    "selected_appliance = ['air1', 'clotheswasher1', 'dishwasher1', 'furnace1',  'microwave1', 'refrigerator1', 'use']\n",
    "all_observed = True"
   ]
  },
  {
   "cell_type": "code",
   "execution_count": 505,
   "metadata": {},
   "outputs": [
    {
     "name": "stdout",
     "output_type": "stream",
     "text": [
      "2016 85\n",
      "2017 53\n",
      "2013 21\n",
      "2014 59\n",
      "2015 101\n",
      "overall:  319\n"
     ]
    }
   ],
   "source": [
    "data = get_dataset(selected_years, selected_appliance, all_observed, 2)\n",
    "get_info(data)"
   ]
  },
  {
   "cell_type": "code",
   "execution_count": 503,
   "metadata": {
    "collapsed": true
   },
   "outputs": [],
   "source": [
    "np.save(\"./data-2013-2017-observed.npy\", data)"
   ]
  }
 ],
 "metadata": {
  "kernelspec": {
   "display_name": "Python 3",
   "language": "python",
   "name": "python3"
  },
  "language_info": {
   "codemirror_mode": {
    "name": "ipython",
    "version": 3
   },
   "file_extension": ".py",
   "mimetype": "text/x-python",
   "name": "python",
   "nbconvert_exporter": "python",
   "pygments_lexer": "ipython3",
   "version": "3.5.2"
  }
 },
 "nbformat": 4,
 "nbformat_minor": 2
}
