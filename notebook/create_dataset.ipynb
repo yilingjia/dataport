{
 "cells": [
  {
   "cell_type": "code",
   "execution_count": 1,
   "metadata": {
    "collapsed": true
   },
   "outputs": [],
   "source": [
    "freq_dict = {'15-min':'15T',\n",
    "            '1-hour':'1H',\n",
    "            '2-hour':'2H',\n",
    "            '4-hour':'4H',\n",
    "            '6-hour':'6H',\n",
    "            '8-hour':'8H',\n",
    "            '12-hour':'12H',\n",
    "            '1-day':'1D',\n",
    "            '2-day':'2D',\n",
    "            '7-day':'7D',\n",
    "            '15-day':'15D',\n",
    "            '1-month':'1M'}"
   ]
  },
  {
   "cell_type": "code",
   "execution_count": 2,
   "metadata": {
    "collapsed": true
   },
   "outputs": [],
   "source": [
    "import pandas as pd\n",
    "import numpy as np\n",
    "import matplotlib.pyplot as plt\n",
    "import os\n",
    "from copy import deepcopy\n",
    "\n"
   ]
  },
  {
   "cell_type": "code",
   "execution_count": 3,
   "metadata": {
    "collapsed": true
   },
   "outputs": [],
   "source": [
    "metadata_df = pd.read_csv(\"../metadata/metadata.csv\",index_col=0)"
   ]
  },
  {
   "cell_type": "code",
   "execution_count": 4,
   "metadata": {},
   "outputs": [
    {
     "name": "stderr",
     "output_type": "stream",
     "text": [
      "/Library/Frameworks/Python.framework/Versions/3.5/lib/python3.5/site-packages/ipykernel/__main__.py:3: DeprecationWarning: \n",
      ".ix is deprecated. Please use\n",
      ".loc for label based indexing or\n",
      ".iloc for positional indexing\n",
      "\n",
      "See the documentation here:\n",
      "http://pandas.pydata.org/pandas-docs/stable/indexing.html#ix-indexer-is-deprecated\n",
      "  app.launch_new_instance()\n"
     ]
    }
   ],
   "source": [
    "city_count = {}\n",
    "for i in metadata_df.index:\n",
    "    city = metadata_df.ix[i]['city']\n",
    "    if city in city_count.keys():\n",
    "        city_count[city] += 1\n",
    "    else:\n",
    "        city_count[city] = 1"
   ]
  },
  {
   "cell_type": "code",
   "execution_count": 5,
   "metadata": {
    "collapsed": true
   },
   "outputs": [],
   "source": [
    "city = 'Boulder'"
   ]
  },
  {
   "cell_type": "code",
   "execution_count": 6,
   "metadata": {},
   "outputs": [],
   "source": [
    "st = pd.HDFStore(os.path.expanduser(\"/Users/xox/monthly-12-17.h5\"), mode='r')"
   ]
  },
  {
   "cell_type": "code",
   "execution_count": 7,
   "metadata": {
    "collapsed": true
   },
   "outputs": [],
   "source": [
    "freq='1M'"
   ]
  },
  {
   "cell_type": "code",
   "execution_count": 8,
   "metadata": {
    "collapsed": true
   },
   "outputs": [],
   "source": [
    "city_data = metadata_df[metadata_df['city'] == city]\n",
    "city_homes = city_data.index.values.astype('int')"
   ]
  },
  {
   "cell_type": "code",
   "execution_count": 9,
   "metadata": {},
   "outputs": [
    {
     "data": {
      "text/plain": [
       "58"
      ]
     },
     "execution_count": 9,
     "metadata": {},
     "output_type": "execute_result"
    }
   ],
   "source": [
    "len(city_homes)"
   ]
  },
  {
   "cell_type": "code",
   "execution_count": 10,
   "metadata": {},
   "outputs": [
    {
     "name": "stdout",
     "output_type": "stream",
     "text": [
      "1M\n"
     ]
    }
   ],
   "source": [
    "homes = {}\n",
    "count = 0\n",
    "for freq in ['1M']:\n",
    "    print(freq)\n",
    "    freq_num = int(freq[:-1])\n",
    "    out = []\n",
    "    homes[freq] = []\n",
    "    city_data = metadata_df[metadata_df['city'] == city]\n",
    "    city_homes = city_data.index.values.astype('int')\n",
    "    for home in city_homes:\n",
    "#         print(home)\n",
    "        try: \n",
    "            data_df = st['/%d' %home]\n",
    "            count += 1\n",
    "            homes[home] = data_df.resample(freq).mean()\n",
    "        except Exception as e:\n",
    "            continue\n"
   ]
  },
  {
   "cell_type": "code",
   "execution_count": 11,
   "metadata": {
    "collapsed": true
   },
   "outputs": [],
   "source": [
    "home_ids = homes.keys()"
   ]
  },
  {
   "cell_type": "code",
   "execution_count": 12,
   "metadata": {
    "collapsed": true
   },
   "outputs": [],
   "source": [
    "home_readings = {}\n",
    "for year in range(2012, 2018):\n",
    "    home_readings[year] = {}\n",
    "for hid in home_ids:\n",
    "    for year in range(2012, 2018):\n",
    "        try:\n",
    "            year_readings = homes[hid][str(year)]\n",
    "            if len(year_readings) < 12:\n",
    "                continue\n",
    "            for m in range(12):\n",
    "                old_index = year_readings.index[m]\n",
    "                new_index = str(old_index)[:7]\n",
    "                year_readings = year_readings.rename(index={old_index:new_index})\n",
    "                home_readings[year][hid] = year_readings\n",
    "                \n",
    "        except:\n",
    "            continue"
   ]
  },
  {
   "cell_type": "code",
   "execution_count": 13,
   "metadata": {},
   "outputs": [
    {
     "name": "stdout",
     "output_type": "stream",
     "text": [
      "2013 0\n",
      "2014 0\n",
      "2015 32\n",
      "2016 23\n",
      "2017 16\n"
     ]
    }
   ],
   "source": [
    "# with all observed aggregate readings\n",
    "all_aggregate = {}\n",
    "for year in range(2013, 2018):\n",
    "    all_aggregate[year] = {}\n",
    "    for hid in home_readings[year].keys():\n",
    "        try:\n",
    "            if home_readings[year][hid]['use'].isnull().sum() == 0:\n",
    "                all_aggregate[year][hid] = home_readings[year][hid]\n",
    "        except Exception as e:\n",
    "            continue\n",
    "for year in range(2013, 2018):\n",
    "    print(year, len(all_aggregate[year].keys()))"
   ]
  },
  {
   "cell_type": "code",
   "execution_count": 16,
   "metadata": {
    "collapsed": true
   },
   "outputs": [],
   "source": [
    "year = 2015"
   ]
  },
  {
   "cell_type": "code",
   "execution_count": 19,
   "metadata": {},
   "outputs": [],
   "source": [
    "# app_nan = all_aggregate[year][9121].isnull().sum()\n",
    "# print(app_nan)"
   ]
  },
  {
   "cell_type": "code",
   "execution_count": 20,
   "metadata": {
    "collapsed": true
   },
   "outputs": [],
   "source": [
    "app_count = {}\n",
    "for year in range(2013, 2018):\n",
    "    app_count[year] = {}\n",
    "    for hid in all_aggregate[year].keys():\n",
    "        app_nan = all_aggregate[year][hid].isnull().sum()\n",
    "        for app in app_nan.keys():\n",
    "            if app_nan[app] == 0:\n",
    "                if app in app_count[year]:\n",
    "                    app_count[year][app] += 1\n",
    "                else:\n",
    "                    app_count[year][app] = 1"
   ]
  },
  {
   "cell_type": "code",
   "execution_count": 21,
   "metadata": {
    "collapsed": true
   },
   "outputs": [],
   "source": [
    "df = pd.DataFrame(app_count)"
   ]
  },
  {
   "cell_type": "code",
   "execution_count": 26,
   "metadata": {},
   "outputs": [
    {
     "data": {
      "text/plain": [
       "{2013: {},\n",
       " 2014: {},\n",
       " 2015: {'air1': 28,\n",
       "  'air2': 4,\n",
       "  'bathroom1': 8,\n",
       "  'bedroom1': 4,\n",
       "  'car1': 1,\n",
       "  'clotheswasher1': 22,\n",
       "  'clotheswasher_dryg1': 1,\n",
       "  'diningroom1': 1,\n",
       "  'dishwasher1': 26,\n",
       "  'disposal1': 3,\n",
       "  'drye1': 22,\n",
       "  'dryg1': 2,\n",
       "  'furnace1': 27,\n",
       "  'furnace2': 2,\n",
       "  'garage1': 2,\n",
       "  'garage2': 1,\n",
       "  'heater1': 3,\n",
       "  'jacuzzi1': 7,\n",
       "  'kitchen1': 2,\n",
       "  'kitchenapp1': 17,\n",
       "  'kitchenapp2': 9,\n",
       "  'lights_plugs1': 12,\n",
       "  'lights_plugs2': 5,\n",
       "  'lights_plugs3': 3,\n",
       "  'lights_plugs4': 1,\n",
       "  'lights_plugs5': 1,\n",
       "  'lights_plugs6': 1,\n",
       "  'livingroom1': 4,\n",
       "  'livingroom2': 1,\n",
       "  'microwave1': 10,\n",
       "  'office1': 5,\n",
       "  'outsidelights_plugs1': 1,\n",
       "  'oven1': 12,\n",
       "  'range1': 8,\n",
       "  'refrigerator1': 23,\n",
       "  'refrigerator2': 4,\n",
       "  'use': 32,\n",
       "  'venthood1': 1,\n",
       "  'waterheater1': 1},\n",
       " 2016: {'air1': 19,\n",
       "  'air2': 3,\n",
       "  'bathroom1': 5,\n",
       "  'bedroom1': 2,\n",
       "  'car1': 1,\n",
       "  'clotheswasher1': 16,\n",
       "  'diningroom1': 1,\n",
       "  'dishwasher1': 18,\n",
       "  'disposal1': 2,\n",
       "  'drye1': 17,\n",
       "  'dryg1': 1,\n",
       "  'furnace1': 19,\n",
       "  'furnace2': 2,\n",
       "  'garage1': 2,\n",
       "  'garage2': 1,\n",
       "  'heater1': 3,\n",
       "  'jacuzzi1': 6,\n",
       "  'kitchen1': 2,\n",
       "  'kitchenapp1': 12,\n",
       "  'kitchenapp2': 6,\n",
       "  'lights_plugs1': 10,\n",
       "  'lights_plugs2': 5,\n",
       "  'lights_plugs3': 3,\n",
       "  'lights_plugs4': 1,\n",
       "  'lights_plugs5': 1,\n",
       "  'lights_plugs6': 1,\n",
       "  'livingroom1': 4,\n",
       "  'livingroom2': 1,\n",
       "  'microwave1': 7,\n",
       "  'office1': 4,\n",
       "  'outsidelights_plugs1': 1,\n",
       "  'oven1': 10,\n",
       "  'range1': 5,\n",
       "  'refrigerator1': 16,\n",
       "  'refrigerator2': 2,\n",
       "  'use': 23,\n",
       "  'venthood1': 1,\n",
       "  'waterheater1': 1},\n",
       " 2017: {'air1': 12,\n",
       "  'air2': 2,\n",
       "  'bathroom1': 4,\n",
       "  'bedroom1': 1,\n",
       "  'car1': 1,\n",
       "  'clotheswasher1': 12,\n",
       "  'dishwasher1': 12,\n",
       "  'disposal1': 1,\n",
       "  'drye1': 10,\n",
       "  'dryg1': 1,\n",
       "  'furnace1': 12,\n",
       "  'furnace2': 2,\n",
       "  'garage1': 2,\n",
       "  'garage2': 1,\n",
       "  'jacuzzi1': 4,\n",
       "  'kitchen1': 1,\n",
       "  'kitchenapp1': 9,\n",
       "  'kitchenapp2': 4,\n",
       "  'lights_plugs1': 7,\n",
       "  'lights_plugs2': 4,\n",
       "  'lights_plugs3': 2,\n",
       "  'lights_plugs4': 1,\n",
       "  'lights_plugs5': 1,\n",
       "  'lights_plugs6': 1,\n",
       "  'livingroom1': 2,\n",
       "  'livingroom2': 1,\n",
       "  'microwave1': 6,\n",
       "  'office1': 3,\n",
       "  'outsidelights_plugs1': 1,\n",
       "  'oven1': 5,\n",
       "  'pump1': 1,\n",
       "  'range1': 3,\n",
       "  'refrigerator1': 12,\n",
       "  'refrigerator2': 2,\n",
       "  'use': 16,\n",
       "  'venthood1': 1,\n",
       "  'waterheater1': 1}}"
      ]
     },
     "execution_count": 26,
     "metadata": {},
     "output_type": "execute_result"
    }
   ],
   "source": [
    "app_count"
   ]
  },
  {
   "cell_type": "code",
   "execution_count": 22,
   "metadata": {},
   "outputs": [
    {
     "data": {
      "text/html": [
       "<div>\n",
       "<style scoped>\n",
       "    .dataframe tbody tr th:only-of-type {\n",
       "        vertical-align: middle;\n",
       "    }\n",
       "\n",
       "    .dataframe tbody tr th {\n",
       "        vertical-align: top;\n",
       "    }\n",
       "\n",
       "    .dataframe thead th {\n",
       "        text-align: right;\n",
       "    }\n",
       "</style>\n",
       "<table border=\"1\" class=\"dataframe\">\n",
       "  <thead>\n",
       "    <tr style=\"text-align: right;\">\n",
       "      <th></th>\n",
       "      <th>2013</th>\n",
       "      <th>2014</th>\n",
       "      <th>2015</th>\n",
       "      <th>2016</th>\n",
       "      <th>2017</th>\n",
       "    </tr>\n",
       "  </thead>\n",
       "  <tbody>\n",
       "  </tbody>\n",
       "</table>\n",
       "</div>"
      ],
      "text/plain": [
       "Empty DataFrame\n",
       "Columns: [2013, 2014, 2015, 2016, 2017]\n",
       "Index: []"
      ]
     },
     "execution_count": 22,
     "metadata": {},
     "output_type": "execute_result"
    }
   ],
   "source": [
    "df[(df > 100).any(1)]"
   ]
  },
  {
   "cell_type": "code",
   "execution_count": 23,
   "metadata": {
    "collapsed": true
   },
   "outputs": [],
   "source": [
    "candidate_app = df[(df > 30).all(1)].index.tolist()"
   ]
  },
  {
   "cell_type": "code",
   "execution_count": 24,
   "metadata": {
    "collapsed": true
   },
   "outputs": [],
   "source": [
    "candidate_app = ['air1', 'clotheswasher1', 'dishwasher1', 'drye1', 'furnace1', 'kitchenapp1', 'microwave1', 'refrigerator1', 'use']"
   ]
  },
  {
   "cell_type": "code",
   "execution_count": 25,
   "metadata": {},
   "outputs": [
    {
     "name": "stdout",
     "output_type": "stream",
     "text": [
      "2013 0\n",
      "2014 0\n",
      "2015 0\n",
      "2016 0\n",
      "2017 0\n",
      "overall 0\n"
     ]
    },
    {
     "name": "stderr",
     "output_type": "stream",
     "text": [
      "/Library/Frameworks/Python.framework/Versions/3.5/lib/python3.5/site-packages/pandas/core/series.py:705: FutureWarning: \n",
      "Passing list-likes to .loc or [] with any missing label will raise\n",
      "KeyError in the future, you can use .reindex() as an alternative.\n",
      "\n",
      "See the documentation here:\n",
      "http://pandas.pydata.org/pandas-docs/stable/indexing.html#deprecate-loc-reindex-listlike\n",
      "  return self.loc[key]\n"
     ]
    }
   ],
   "source": [
    "c = 0\n",
    "overall = 0\n",
    "cand = {}\n",
    "for year in range(2013, 2018):\n",
    "    cand[year] = {}\n",
    "    for hid in all_aggregate[year].keys():\n",
    "        if all_aggregate[year][hid].isnull().sum()[candidate_app].sum() == 0:\n",
    "#             print(year, hid)\n",
    "            df = pd.DataFrame(all_aggregate[year][hid])\n",
    "            candidate = df.iloc[:, df.columns.isin(candidate_app)]\n",
    "            if len(candidate.columns) == len(candidate_app):\n",
    "                cand[year][hid] = candidate\n",
    "    print(year, len(cand[year].keys()))\n",
    "    overall += len(cand[year].keys())\n",
    "print('overall', overall)"
   ]
  },
  {
   "cell_type": "code",
   "execution_count": 492,
   "metadata": {
    "collapsed": true
   },
   "outputs": [],
   "source": [
    "def get_dataset(selected_years, selected_appliance, all_observed, num_columns=1):\n",
    "    data = {}\n",
    "    for year in selected_years:\n",
    "        data[year] = {}\n",
    "        for hid in all_aggregate[year].keys():\n",
    "            df = pd.DataFrame(all_aggregate[year][hid])\n",
    "            candidate = df.iloc[:, df.columns.isin(selected_appliance)]\n",
    "            if all_observed:\n",
    "                if len(candidate.columns) == len(selected_appliance) and candidate.isnull().sum().sum() == 0:\n",
    "                    data[year][hid] = candidate\n",
    "            else:\n",
    "                if len(candidate.columns) >= num_columns:\n",
    "                    data[year][hid] = candidate\n",
    "\n",
    "    return data\n",
    "            "
   ]
  },
  {
   "cell_type": "code",
   "execution_count": 493,
   "metadata": {
    "collapsed": true
   },
   "outputs": [],
   "source": [
    "def get_info(data):\n",
    "    overall = 0\n",
    "    for year in data.keys():\n",
    "        print(year, len(data[year].keys()))\n",
    "        overall += len(data[year].keys())\n",
    "    print(\"overall: \", overall)"
   ]
  },
  {
   "cell_type": "code",
   "execution_count": 504,
   "metadata": {
    "collapsed": true
   },
   "outputs": [],
   "source": [
    "selected_years = [2013, 2014, 2015, 2016, 2017]\n",
    "selected_appliance = ['air1', 'clotheswasher1', 'dishwasher1', 'furnace1',  'microwave1', 'refrigerator1', 'use']\n",
    "all_observed = True"
   ]
  },
  {
   "cell_type": "code",
   "execution_count": 505,
   "metadata": {},
   "outputs": [
    {
     "name": "stdout",
     "output_type": "stream",
     "text": [
      "2016 85\n",
      "2017 53\n",
      "2013 21\n",
      "2014 59\n",
      "2015 101\n",
      "overall:  319\n"
     ]
    }
   ],
   "source": [
    "data = get_dataset(selected_years, selected_appliance, all_observed, 2)\n",
    "get_info(data)"
   ]
  },
  {
   "cell_type": "code",
   "execution_count": 503,
   "metadata": {
    "collapsed": true
   },
   "outputs": [],
   "source": [
    "np.save(\"./data-2013-2017-observed.npy\", data)"
   ]
  }
 ],
 "metadata": {
  "kernelspec": {
   "display_name": "Python 3",
   "language": "python",
   "name": "python3"
  },
  "language_info": {
   "codemirror_mode": {
    "name": "ipython",
    "version": 3
   },
   "file_extension": ".py",
   "mimetype": "text/x-python",
   "name": "python",
   "nbconvert_exporter": "python",
   "pygments_lexer": "ipython3",
   "version": "3.5.2"
  }
 },
 "nbformat": 4,
 "nbformat_minor": 2
}
