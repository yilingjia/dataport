{
 "cells": [
  {
   "cell_type": "code",
   "execution_count": 3,
   "metadata": {
    "collapsed": true
   },
   "outputs": [],
   "source": [
    "import numpy as np\n",
    "import pandas as pd\n",
    "import glob\n",
    "import os\n",
    "import sys\n",
    "import warnings\n",
    "warnings.filterwarnings(\"ignore\")"
   ]
  },
  {
   "cell_type": "code",
   "execution_count": 102,
   "metadata": {},
   "outputs": [],
   "source": [
    "FILE_PATH = os.path.expanduser(\"../metadata/electricity_egauge_minutes/\")\n"
   ]
  },
  {
   "cell_type": "code",
   "execution_count": 103,
   "metadata": {},
   "outputs": [],
   "source": [
    "columns = ['use', 'air1', 'refrigerator1', 'dishwasher1', 'drye1', 'microwave1']"
   ]
  },
  {
   "cell_type": "code",
   "execution_count": 104,
   "metadata": {
    "collapsed": true
   },
   "outputs": [],
   "source": [
    "list_of_buildings = [114,  661, 2018, 2575, 2814, 2859, 3456, 3482, 5403, 6836, 6990,\n",
    "       7536, 7940, 8236, 9134, 8188, 2156, 4220, 7951, 2094,   93,  871,\n",
    "       9737, 7863, 1169, 1415, 3367, 3723, 4373, 4526, 5395, 5921, 7627,\n",
    "       7850, 8156, 9982, 4514, 7117, 8956, 9248, 9278, 4874, 7641, 8292,\n",
    "       4946, 4957, 2242, 5568, 3036, 9701,  434, 1507, 7901, 6101, 8565,\n",
    "       6063,  781, 2532, 5317,  101, 3916, 1310, 3273, 9912, 3413, 2361,\n",
    "       5809,  668]"
   ]
  },
  {
   "cell_type": "code",
   "execution_count": 110,
   "metadata": {
    "collapsed": true
   },
   "outputs": [
    {
     "name": "stdout",
     "output_type": "stream",
     "text": [
      "114\n",
      "661\n",
      "2018\n",
      "2575\n",
      "2814\n",
      "2859\n",
      "3456\n",
      "3482\n",
      "5403\n",
      "6836\n",
      "6990\n",
      "7536\n",
      "7940\n",
      "8236\n",
      "9134\n",
      "8188\n",
      "2156\n",
      "4220\n",
      "7951\n",
      "2094\n",
      "93\n",
      "871\n",
      "9737\n",
      "7863\n",
      "1169\n",
      "1415\n",
      "3367\n",
      "3723\n",
      "4373\n",
      "4526\n",
      "5395\n",
      "5921\n",
      "7627\n",
      "7850\n",
      "8156\n",
      "9982\n",
      "4514\n",
      "7117\n",
      "8956\n",
      "9248\n",
      "9278\n",
      "4874\n",
      "7641\n",
      "8292\n",
      "4946\n",
      "4957\n",
      "2242\n",
      "5568\n",
      "3036\n",
      "9701\n",
      "434\n",
      "1507\n",
      "7901\n",
      "6101\n",
      "8565\n",
      "6063\n",
      "781\n",
      "2532\n",
      "5317\n",
      "101\n",
      "3916\n",
      "1310\n",
      "3273\n",
      "9912\n",
      "3413\n",
      "2361\n",
      "5809\n",
      "668\n"
     ]
    }
   ],
   "source": [
    "tensor = np.zeros((68, 7, 112, 96))\n",
    "for idx, building_num in enumerate(list_of_buildings):\n",
    "    print(building_num)\n",
    "    \n",
    "    b_name = \"{}.csv\".format(building_num)\n",
    "    building_path = os.path.join(FILE_PATH, b_name)\n",
    "\n",
    "    df = pd.read_csv(building_path)\n",
    "    test = df[df['localminute'] > '2015-06-10'][df['localminute'] < '2015-09-30']\n",
    "    m = len(test)\n",
    "    n = 15\n",
    "    new_df = test.T.groupby([i//n for i in range(0,m)], axis = 1).sum()\n",
    "    new_df = new_df.loc[columns].T\n",
    "    \n",
    "    home_data = new_df.values.reshape(112, 96, 6)\n",
    "    home_tensor = np.zeros((7, 112, 96))\n",
    "    for i in range(6):\n",
    "        home_tensor[i] = home_data[:, :, i]\n",
    "    home_tensor[6] = (home_tensor[0] - home_tensor[1:].sum(axis=0))\n",
    "    \n",
    "    tensor[idx] = home_tensor"
   ]
  },
  {
   "cell_type": "code",
   "execution_count": 114,
   "metadata": {},
   "outputs": [
    {
     "data": {
      "text/plain": [
       "(68, 6, 112, 96)"
      ]
     },
     "execution_count": 114,
     "metadata": {},
     "output_type": "execute_result"
    }
   ],
   "source": [
    "tensor[:, :6].shape"
   ]
  },
  {
   "cell_type": "code",
   "execution_count": 112,
   "metadata": {},
   "outputs": [],
   "source": [
    "np.save(\"./2015-5appliances-true-aggregate-residual-15min.npy\", tensor)"
   ]
  },
  {
   "cell_type": "code",
   "execution_count": 117,
   "metadata": {
    "collapsed": true
   },
   "outputs": [],
   "source": [
    "np.save(\"./2015-5appliances-true-aggregate-15min.npy\", tensor[:, :6])"
   ]
  }
 ],
 "metadata": {
  "kernelspec": {
   "display_name": "Python 2",
   "language": "python",
   "name": "python2"
  },
  "language_info": {
   "codemirror_mode": {
    "name": "ipython",
    "version": 2
   },
   "file_extension": ".py",
   "mimetype": "text/x-python",
   "name": "python",
   "nbconvert_exporter": "python",
   "pygments_lexer": "ipython2",
   "version": "2.7.10"
  }
 },
 "nbformat": 4,
 "nbformat_minor": 2
}
